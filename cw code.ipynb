{
 "cells": [
  {
   "cell_type": "code",
   "execution_count": 1,
   "metadata": {
    "collapsed": true
   },
   "outputs": [],
   "source": [
    "import matplotlib.pyplot as plt\n",
    "import seaborn as sns"
   ]
  },
  {
   "cell_type": "code",
   "execution_count": 2,
   "metadata": {
    "collapsed": true
   },
   "outputs": [],
   "source": [
    "%matplotlib inline\n",
    "sns.set(rc={'figure.figsize':(10,6)})"
   ]
  },
  {
   "cell_type": "code",
   "execution_count": 3,
   "metadata": {},
   "outputs": [
    {
     "name": "stdout",
     "output_type": "stream",
     "text": [
      "[Errno 2] No such file or directory: 'INFR11062'\n",
      "/Users/jusjosgra/uni/MT/INFR11062\n"
     ]
    }
   ],
   "source": [
    "cd 'INFR11062'"
   ]
  },
  {
   "cell_type": "code",
   "execution_count": 72,
   "metadata": {},
   "outputs": [
    {
     "name": "stdout",
     "output_type": "stream",
     "text": [
      "vocab size, en=3713, fr=3949\n",
      "--------------------------------------------------\n",
      "Training progress will be logged in:\n",
      "\tmodel/train_10000sen_1-1layers_100units_ja_en_exp1_NO_ATTN.log\n",
      "--------------------------------------------------\n",
      "Trained model will be saved as:\n",
      "\tmodel/seq2seq_10000sen_1-1layers_100units_ja_en_exp1_NO_ATTN.model\n",
      "--------------------------------------------------\n",
      "Existing model found\n",
      "--------------------------------------------------\n",
      "loading model ...\n",
      "finished loading: model/seq2seq_10000sen_1-1layers_100units_ja_en_exp1_NO_ATTN.model\n",
      "--------------------------------------------------\n"
     ]
    }
   ],
   "source": [
    "%run nmt_translate.py"
   ]
  },
  {
   "cell_type": "code",
   "execution_count": 73,
   "metadata": {},
   "outputs": [
    {
     "name": "stdout",
     "output_type": "stream",
     "text": [
      "English predictions, s=1000, num=10:\n",
      "--------------------------------------------------\n",
      "Src | 愚者 の あと 知恵 。                                                                    \n",
      "Ref | it is easy to be wise after the event .                                         \n",
      "Hyp | i &apos;s _UNK _UNK . . _EOS                                                    \n",
      "--------------------------------------------------\n",
      "precision | 0.1429\n",
      "recall | 0.1000\n",
      "--------------------------------------------------\n",
      "Src | その 男 は 地面 に 倒れ た 。                                                              \n",
      "Ref | the man fell down on the ground .                                               \n",
      "Hyp | the the _UNK on the the . . _EOS                                                \n",
      "--------------------------------------------------\n",
      "precision | 0.4444\n",
      "recall | 0.5000\n",
      "--------------------------------------------------\n",
      "Src | 決勝 戦 で 負け る ほど 悔し い もの は な い 。                                                  \n",
      "Ref | nothing is more disappointing than to lose in the finals .                      \n",
      "Hyp | no is no in in _UNK _UNK . . . _EOS                                             \n",
      "--------------------------------------------------\n",
      "precision | 0.2727\n",
      "recall | 0.2727\n",
      "--------------------------------------------------\n",
      "Src | 私 の 時計 で は 今 ちょうど 九 時 で す 。                                                     \n",
      "Ref | it is just nine by my watch .                                                   \n",
      "Hyp | my father is is my . . _EOS                                                     \n",
      "--------------------------------------------------\n",
      "precision | 0.3750\n",
      "recall | 0.3750\n",
      "--------------------------------------------------\n",
      "Src | 彼 ら は すぐ に 出発 し た 方 が い い と 決め た 。                                              \n",
      "Ref | they decided that it would be better to start at once .                         \n",
      "Hyp | they had to to to to . . . _EOS                                                 \n",
      "--------------------------------------------------\n",
      "precision | 0.3000\n",
      "recall | 0.2500\n",
      "--------------------------------------------------\n",
      "Src | 彼 は 若 い 頃 は 暮らし 向き が よ かっ た 。                                                   \n",
      "Ref | he was better off when he was young .                                           \n",
      "Hyp | he was a , , , he he . . _EOS                                                   \n",
      "--------------------------------------------------\n",
      "precision | 0.3636\n",
      "recall | 0.4444\n",
      "--------------------------------------------------\n",
      "Src | 神 に かけ て 真実 を 語 る 事 を 誓 う 。                                                     \n",
      "Ref | i swear by god that i will speak the truth .                                    \n",
      "Hyp | i &apos;ll you you the the the . . _EOS                                         \n",
      "--------------------------------------------------\n",
      "precision | 0.3000\n",
      "recall | 0.2727\n",
      "--------------------------------------------------\n",
      "Src | 日本 人 は 清潔 好き な 国民 で す 。                                                         \n",
      "Ref | the japanese are a very clean people .                                          \n",
      "Hyp | the is is a . . . _EOS                                                          \n",
      "--------------------------------------------------\n",
      "precision | 0.3750\n",
      "recall | 0.3750\n",
      "--------------------------------------------------\n",
      "Src | 警察 署 内 で の 拷問 の 残酷 さ は 筆舌 に 尽く し 難 い 。                                          \n",
      "Ref | the cruelty of the torture in the police station is beyond description .        \n",
      "Hyp | the _UNK _UNK in in _UNK in _UNK _UNK _UNK . . . _EOS                           \n",
      "--------------------------------------------------\n",
      "precision | 0.2143\n",
      "recall | 0.2308\n",
      "--------------------------------------------------\n",
      "Src | 林 の 中 で いっぱい 虫 に さ さ れ た 。                                                      \n",
      "Ref | i got a lot of insect bites in the woods .                                      \n",
      "Hyp | the _UNK _UNK in in in the _UNK . . _EOS                                        \n",
      "--------------------------------------------------\n",
      "precision | 0.2727\n",
      "recall | 0.2727\n",
      "sentences matching filter = 10\n"
     ]
    }
   ],
   "source": [
    "_ = predict(s=1000,num=10)"
   ]
  },
  {
   "cell_type": "code",
   "execution_count": 74,
   "metadata": {},
   "outputs": [
    {
     "name": "stdout",
     "output_type": "stream",
     "text": [
      "English predictions, s=0, num=10:\n",
      "--------------------------------------------------\n",
      "Src | ステーキ は 中位 で 焼 い て くださ い 。                                                       \n",
      "Ref | i like my steak medium .                                                        \n",
      "Hyp | please the the the the . . _EOS                                                 \n",
      "--------------------------------------------------\n",
      "precision | 0.1250\n",
      "recall | 0.1667\n",
      "--------------------------------------------------\n",
      "Src | 彼女 の 美し さ に 関 し て は 、 疑 う 余地 が な い 。                                            \n",
      "Ref | there is no doubt as to her beauty .                                            \n",
      "Hyp | there is no to her her her . . _EOS                                             \n",
      "--------------------------------------------------\n",
      "precision | 0.6000\n",
      "recall | 0.6667\n",
      "--------------------------------------------------\n",
      "Src | この 近所 の 家 は どれ も とても よく 似 て い る の で 見分け が つ か な い 。                             \n",
      "Ref | all the houses in this neighborhood look so much alike that i can &apos;t tell them apart .\n",
      "Hyp | this can is is , , this this this this this this . . . _EOS                     \n",
      "--------------------------------------------------\n",
      "precision | 0.1875\n",
      "recall | 0.1667\n",
      "--------------------------------------------------\n",
      "Src | 相撲 を 見 た こと が あ り ま す か 。                                                       \n",
      "Ref | have you ever watched sumo wrestling ?                                          \n",
      "Hyp | have you have _UNK _UNK ? ? _EOS                                                \n",
      "--------------------------------------------------\n",
      "precision | 0.3750\n",
      "recall | 0.4286\n",
      "--------------------------------------------------\n",
      "Src | 彼 は 、 その 川 を 泳 い で 渡 ろ う と し て 失敗 し た 。                                         \n",
      "Ref | he failed in his attempt to swim across the river .                             \n",
      "Hyp | he was the the the the the the the . . _EOS                                     \n",
      "--------------------------------------------------\n",
      "precision | 0.2500\n",
      "recall | 0.2727\n",
      "--------------------------------------------------\n",
      "Src | こちら に 着 い たら すぐ 連絡 し て 下さ い 。                                                   \n",
      "Ref | get in touch with me as soon as you arrive here .                               \n",
      "Hyp | please me to to to a a . . . _EOS                                               \n",
      "--------------------------------------------------\n",
      "precision | 0.1818\n",
      "recall | 0.1667\n",
      "--------------------------------------------------\n",
      "Src | 昼食 の 後 、 散歩 を する の は どう で す か 。                                                 \n",
      "Ref | how about going for a walk after lunch ?                                        \n",
      "Hyp | what is , , , in in ? _EOS                                                      \n",
      "--------------------------------------------------\n",
      "precision | 0.1111\n",
      "recall | 0.1111\n",
      "--------------------------------------------------\n",
      "Src | 彼女 は 彼 を 見 た だけ で も いや だっ た 。                                                   \n",
      "Ref | the sight of him was hateful to her .                                           \n",
      "Hyp | she was to to to to . . _EOS                                                    \n",
      "--------------------------------------------------\n",
      "precision | 0.3333\n",
      "recall | 0.3333\n",
      "--------------------------------------------------\n",
      "Src | うわさ は 四方 八方 に 広が っ た 。                                                          \n",
      "Ref | the rumor spread far and wide .                                                 \n",
      "Hyp | the _UNK _UNK in in . . _EOS                                                    \n",
      "--------------------------------------------------\n",
      "precision | 0.2500\n",
      "recall | 0.2857\n",
      "--------------------------------------------------\n",
      "Src | 老人 は 過去 を 振り返 り がち で あ る 。                                                      \n",
      "Ref | old people are inclined to look back on the past .                              \n",
      "Hyp | the is the the the the the . . _EOS                                             \n",
      "--------------------------------------------------\n",
      "precision | 0.2000\n",
      "recall | 0.1818\n",
      "sentences matching filter = 10\n"
     ]
    }
   ],
   "source": [
    "_ = predict(s=0, num=10)"
   ]
  },
  {
   "cell_type": "code",
   "execution_count": 75,
   "metadata": {},
   "outputs": [
    {
     "name": "stdout",
     "output_type": "stream",
     "text": [
      "English predictions, s=10000, num=10:\n",
      "--------------------------------------------------\n",
      "Src | 彼 は ドイツ 生まれ の 人 だ 。                                                             \n",
      "Ref | he is a german by origin .                                                      \n",
      "Hyp | he is a of of . . _EOS                                                          \n",
      "--------------------------------------------------\n",
      "precision | 0.5000\n",
      "recall | 0.5714\n",
      "sentences matching filter = 1\n"
     ]
    }
   ],
   "source": [
    "_ = predict(s=10000, num=10, r_filt=.5)"
   ]
  },
  {
   "cell_type": "code",
   "execution_count": 76,
   "metadata": {
    "collapsed": true
   },
   "outputs": [],
   "source": [
    "filename_en = 'Data/text.en'\n",
    "filename_jp = 'Data/text.fr'"
   ]
  },
  {
   "cell_type": "code",
   "execution_count": 77,
   "metadata": {
    "collapsed": true
   },
   "outputs": [],
   "source": [
    "def get_sentence_lengths(filename):\n",
    "\n",
    "    lines = [line.rstrip('\\n') for line in open(filename)]\n",
    "\n",
    "\n",
    "    sent_len = []\n",
    "\n",
    "    for i in range(0,len(lines)):\n",
    "        x = len(lines[i].split()) - 1\n",
    "        sent_len.append(x)\n",
    "        \n",
    "    return sent_len"
   ]
  },
  {
   "cell_type": "code",
   "execution_count": 78,
   "metadata": {
    "collapsed": true
   },
   "outputs": [],
   "source": [
    "sent_len_en = get_sentence_lengths(filename_en)\n",
    "sent_len_jp = get_sentence_lengths(filename_jp)"
   ]
  },
  {
   "cell_type": "code",
   "execution_count": 79,
   "metadata": {},
   "outputs": [],
   "source": [
    "dims = (10,6)"
   ]
  },
  {
   "cell_type": "code",
   "execution_count": 80,
   "metadata": {},
   "outputs": [
    {
     "data": {
      "image/png": "[encoded data removed]",
      "text/plain": [
       "<matplotlib.figure.Figure at 0x1a0f2fc438>"
      ]
     },
     "metadata": {},
     "output_type": "display_data"
    }
   ],
   "source": [
    "fig, ax = plt.subplots(figsize=dims)\n",
    "sns.distplot(sent_len_jp, ax=ax, label='Japanese')\n",
    "sns.distplot(sent_len_en, ax=ax, label='English')\n",
    "plt.title('Distribution of sentence lengths')\n",
    "ax.set(xlabel='Sentence length', ylabel='Density')\n",
    "plt.legend()\n",
    "plt.savefig('/Users/jusjosgra/uni/MT/plots/dist.pdf')"
   ]
  },
  {
   "cell_type": "code",
   "execution_count": 81,
   "metadata": {},
   "outputs": [
    {
     "data": {
      "text/plain": [
       "array([[1.        , 0.76626682],\n",
       "       [0.76626682, 1.        ]])"
      ]
     },
     "execution_count": 81,
     "metadata": {},
     "output_type": "execute_result"
    }
   ],
   "source": [
    "np.corrcoef(sent_len_jp,sent_len_en)"
   ]
  },
  {
   "cell_type": "code",
   "execution_count": 82,
   "metadata": {},
   "outputs": [
    {
     "data": {
      "image/png": "[encoded data removed]",
      "text/plain": [
       "<matplotlib.figure.Figure at 0x1a0f1c9748>"
      ]
     },
     "metadata": {},
     "output_type": "display_data"
    }
   ],
   "source": [
    "sns.regplot(np.array(sent_len_jp), np.array(sent_len_en))\n",
    "plt.xlabel('English sentence length')\n",
    "plt.ylabel('Japanese sentence length')\n",
    "plt.title('Distribution of sentence lengths')\n",
    "plt.savefig('/Users/jusjosgra/uni/MT/plots/corr.pdf')"
   ]
  },
  {
   "cell_type": "code",
   "execution_count": 83,
   "metadata": {
    "collapsed": true
   },
   "outputs": [],
   "source": [
    "filename = filename_en\n",
    "\n",
    "lines = [line.rstrip('\\n') for line in open(filename)]\n",
    "\n",
    "\n",
    "sents = []\n",
    "\n",
    "for i in range(0,len(lines)):\n",
    "    x = lines[i].split()\n",
    "    sents = sents + x"
   ]
  },
  {
   "cell_type": "code",
   "execution_count": 84,
   "metadata": {},
   "outputs": [
    {
     "data": {
      "text/plain": [
       "97643"
      ]
     },
     "execution_count": 84,
     "metadata": {},
     "output_type": "execute_result"
    }
   ],
   "source": [
    "len(sents)"
   ]
  },
  {
   "cell_type": "code",
   "execution_count": 85,
   "metadata": {},
   "outputs": [
    {
     "data": {
      "text/plain": [
       "7211"
      ]
     },
     "execution_count": 85,
     "metadata": {},
     "output_type": "execute_result"
    }
   ],
   "source": [
    "len(np.unique(sents))"
   ]
  },
  {
   "cell_type": "code",
   "execution_count": 86,
   "metadata": {
    "collapsed": true
   },
   "outputs": [],
   "source": [
    "filename = filename_jp\n",
    "\n",
    "lines = [line.rstrip('\\n') for line in open(filename)]\n",
    "\n",
    "\n",
    "sents = []\n",
    "\n",
    "for i in range(0,len(lines)):\n",
    "    x = lines[i].split()\n",
    "    sents = sents + x"
   ]
  },
  {
   "cell_type": "code",
   "execution_count": 87,
   "metadata": {},
   "outputs": [
    {
     "data": {
      "text/plain": [
       "143580"
      ]
     },
     "execution_count": 87,
     "metadata": {},
     "output_type": "execute_result"
    }
   ],
   "source": [
    "len(sents)"
   ]
  },
  {
   "cell_type": "code",
   "execution_count": 88,
   "metadata": {},
   "outputs": [
    {
     "data": {
      "text/plain": [
       "8251"
      ]
     },
     "execution_count": 88,
     "metadata": {},
     "output_type": "execute_result"
    }
   ],
   "source": [
    "len(np.unique(sents))"
   ]
  },
  {
   "cell_type": "code",
   "execution_count": 89,
   "metadata": {},
   "outputs": [],
   "source": [
    "unique_elements, counts_elements = np.unique(sents, return_counts=True)"
   ]
  },
  {
   "cell_type": "code",
   "execution_count": 90,
   "metadata": {},
   "outputs": [
    {
     "data": {
      "text/plain": [
       "4171"
      ]
     },
     "execution_count": 90,
     "metadata": {},
     "output_type": "execute_result"
    }
   ],
   "source": [
    "len(counts_elements[counts_elements == 1])"
   ]
  },
  {
   "cell_type": "markdown",
   "metadata": {},
   "source": [
    "## Training models"
   ]
  },
  {
   "cell_type": "code",
   "execution_count": 59,
   "metadata": {
    "collapsed": true
   },
   "outputs": [
    {
     "name": "stdout",
     "output_type": "stream",
     "text": [
      "Running mt experiment\n",
      "Could not find conda environment: mtenv\n",
      "You can list all discoverable environments with `conda info --envs`.\n",
      "\n",
      "/Users/jusjosgra/anaconda/lib/python3.5/site-packages/h5py/__init__.py:34: FutureWarning: Conversion of the second argument of issubdtype from `float` to `np.floating` is deprecated. In future, it will be treated as `np.float64 == np.dtype(float).type`.\n",
      "  from ._conv import register_converters as _register_converters\n",
      "Japanese English dataset configuration\n",
      "vocab size, en=3713, fr=3949\n",
      "--------------------------------------------------\n",
      "Training progress will be logged in:\n",
      "\tmodel/train_10000sen_1-1layers_100units_baseline_NO_ATTN.log\n",
      "--------------------------------------------------\n",
      "Trained model will be saved as:\n",
      "\tmodel/seq2seq_10000sen_1-1layers_100units_baseline_NO_ATTN.model\n",
      "--------------------------------------------------\n",
      "Existing model not found!\n",
      "--------------------------------------------------\n",
      "epoch=1, iter=10000, loss=6.428413, mean loss=6.038288: 100%|█| 10000/10000 [19:11<00:00,  8.69it/s]\n",
      "--------------------------------------------------\n",
      "precision  | 0.2357\n",
      "recall     | 0.2155\n",
      "f1         | 0.2252\n",
      "--------------------------------------------------\n",
      "computing perplexity\n",
      "loss=5.933283: 100%|██████████████████████████| 500/500 [00:14<00:00, 33.56it/s]\n",
      "--------------------------------------------------\n",
      "dev perplexity | 47.6444\n",
      "# words in dev | 4557\n",
      "--------------------------------------------------\n",
      "Saving model\n",
      "Finished saving model\n",
      "--------------------------------------------------\n",
      "computing bleu\n",
      "100%|█████████████████████████████████████████| 500/500 [00:11<00:00, 45.60it/s]\n",
      "BLEU: 6.081\n",
      "finished computing bleu ... \n",
      "--------------------------------------------------\n",
      "epoch=2, iter=20000, loss=6.233601, mean loss=5.609762: 100%|█| 10000/10000 [18:17<00:00,  8.75it/s]\n",
      "--------------------------------------------------\n",
      "precision  | 0.2518\n",
      "recall     | 0.2427\n",
      "f1         | 0.2472\n",
      "--------------------------------------------------\n",
      "computing perplexity\n",
      "loss=5.598883: 100%|██████████████████████████| 500/500 [00:17<00:00, 28.99it/s]\n",
      "--------------------------------------------------\n",
      "dev perplexity | 40.7370\n",
      "# words in dev | 4557\n",
      "--------------------------------------------------\n",
      "Saving model\n",
      "Finished saving model\n",
      "--------------------------------------------------\n",
      "epoch=3, iter=30000, loss=6.032905, mean loss=5.436389: 100%|█| 10000/10000 [20:00<00:00,  8.33it/s]\n",
      "--------------------------------------------------\n",
      "precision  | 0.2463\n",
      "recall     | 0.2453\n",
      "f1         | 0.2458\n",
      "--------------------------------------------------\n",
      "computing perplexity\n",
      "loss=5.404041: 100%|██████████████████████████| 500/500 [00:21<00:00, 23.45it/s]\n",
      "--------------------------------------------------\n",
      "dev perplexity | 38.4811\n",
      "# words in dev | 4557\n",
      "--------------------------------------------------\n",
      "Saving model\n",
      "Finished saving model\n",
      "--------------------------------------------------\n",
      "computing bleu\n",
      "100%|█████████████████████████████████████████| 500/500 [00:13<00:00, 38.34it/s]\n",
      "BLEU: 9.673\n",
      "finished computing bleu ... \n",
      "--------------------------------------------------\n",
      "epoch=4, iter=40000, loss=5.987250, mean loss=5.323793: 100%|█| 10000/10000 [20:09<00:00,  8.27it/s]\n",
      "--------------------------------------------------\n",
      "precision  | 0.2512\n",
      "recall     | 0.2484\n",
      "f1         | 0.2498\n",
      "--------------------------------------------------\n",
      "computing perplexity\n",
      "loss=5.317077: 100%|██████████████████████████| 500/500 [00:17<00:00, 28.04it/s]\n",
      "--------------------------------------------------\n",
      "dev perplexity | 36.7753\n",
      "# words in dev | 4557\n",
      "--------------------------------------------------\n",
      "Saving model\n",
      "Finished saving model\n",
      "--------------------------------------------------\n",
      "epoch=5, iter=50000, loss=5.735410, mean loss=5.229037: 100%|█| 10000/10000 [20:58<00:00,  6.74it/s]\n",
      "--------------------------------------------------\n",
      "precision  | 0.2504\n",
      "recall     | 0.2517\n",
      "f1         | 0.2511\n",
      "--------------------------------------------------\n",
      "computing perplexity\n",
      "loss=5.316821: 100%|██████████████████████████| 500/500 [00:20<00:00, 24.84it/s]\n",
      "--------------------------------------------------\n",
      "dev perplexity | 35.3367\n",
      "# words in dev | 4557\n",
      "--------------------------------------------------\n",
      "Saving model\n",
      "Finished saving model\n",
      "--------------------------------------------------\n",
      "computing bleu\n",
      "100%|█████████████████████████████████████████| 500/500 [00:13<00:00, 43.34it/s]\n",
      "BLEU: 10.849\n",
      "finished computing bleu ... \n",
      "--------------------------------------------------\n",
      "epoch=6, iter=60000, loss=5.506387, mean loss=5.143799: 100%|█| 10000/10000 [18:41<00:00,  8.92it/s]\n",
      "--------------------------------------------------\n",
      "precision  | 0.2594\n",
      "recall     | 0.2554\n",
      "f1         | 0.2574\n",
      "--------------------------------------------------\n",
      "computing perplexity\n",
      "loss=5.218799: 100%|██████████████████████████| 500/500 [00:16<00:00, 30.02it/s]\n",
      "--------------------------------------------------\n",
      "dev perplexity | 34.3376\n",
      "# words in dev | 4557\n",
      "--------------------------------------------------\n",
      "Saving model\n",
      "Finished saving model\n",
      "--------------------------------------------------\n",
      "epoch=7, iter=70000, loss=5.467226, mean loss=5.066554: 100%|█| 10000/10000 [20:58<00:00,  7.44it/s]\n",
      "--------------------------------------------------\n",
      "precision  | 0.2578\n",
      "recall     | 0.2570\n",
      "f1         | 0.2574\n",
      "--------------------------------------------------\n",
      "computing perplexity\n",
      "loss=5.235216: 100%|██████████████████████████| 500/500 [00:18<00:00, 26.74it/s]\n",
      "--------------------------------------------------\n",
      "dev perplexity | 33.6851\n",
      "# words in dev | 4557\n",
      "--------------------------------------------------\n",
      "Saving model\n",
      "Finished saving model\n",
      "--------------------------------------------------\n",
      "computing bleu\n",
      "100%|█████████████████████████████████████████| 500/500 [00:14<00:00, 33.38it/s]\n",
      "BLEU: 11.820\n",
      "finished computing bleu ... \n",
      "--------------------------------------------------\n",
      "epoch=8, iter=80000, loss=5.398861, mean loss=4.993916: 100%|█| 10000/10000 [21:42<00:00,  7.52it/s]\n",
      "--------------------------------------------------\n",
      "precision  | 0.2591\n",
      "recall     | 0.2618\n",
      "f1         | 0.2605\n",
      "--------------------------------------------------\n",
      "computing perplexity\n",
      "loss=5.196673: 100%|██████████████████████████| 500/500 [00:24<00:00, 20.77it/s]\n",
      "--------------------------------------------------\n",
      "dev perplexity | 32.9837\n",
      "# words in dev | 4557\n",
      "--------------------------------------------------\n",
      "Saving model\n",
      "Finished saving model\n",
      "--------------------------------------------------\n",
      "epoch=9, iter=90000, loss=5.459514, mean loss=4.925949: 100%|█| 10000/10000 [23:11<00:00,  7.19it/s]\n",
      "--------------------------------------------------\n",
      "precision  | 0.2579\n",
      "recall     | 0.2620\n",
      "f1         | 0.2600\n",
      "--------------------------------------------------\n",
      "computing perplexity\n",
      "loss=5.127874: 100%|██████████████████████████| 500/500 [00:17<00:00, 31.22it/s]\n",
      "--------------------------------------------------\n",
      "dev perplexity | 32.5463\n",
      "# words in dev | 4557\n",
      "--------------------------------------------------\n",
      "Saving model\n",
      "Finished saving model\n",
      "--------------------------------------------------\n",
      "computing bleu\n",
      "100%|█████████████████████████████████████████| 500/500 [00:15<00:00, 31.65it/s]\n",
      "BLEU: 12.640\n",
      "finished computing bleu ... \n",
      "--------------------------------------------------\n",
      "epoch=10, iter=100000, loss=5.550403, mean loss=4.860103: 100%|█| 10000/10000 [22:01<00:00,  7.87it/s]\n",
      "--------------------------------------------------\n",
      "precision  | 0.2600\n",
      "recall     | 0.2640\n",
      "f1         | 0.2620\n",
      "--------------------------------------------------\n",
      "computing perplexity\n",
      "loss=4.903788: 100%|██████████████████████████| 500/500 [00:17<00:00, 29.32it/s]\n",
      "--------------------------------------------------\n",
      "dev perplexity | 32.2237\n",
      "# words in dev | 4557\n",
      "--------------------------------------------------\n",
      "Saving model\n",
      "Finished saving model\n",
      "--------------------------------------------------\n",
      "epoch=11, iter=110000, loss=5.585204, mean loss=4.797819: 100%|█| 10000/10000 [21:32<00:00,  7.66it/s]\n",
      "--------------------------------------------------\n",
      "precision  | 0.2608\n",
      "recall     | 0.2642\n",
      "f1         | 0.2625\n",
      "--------------------------------------------------\n",
      "computing perplexity\n",
      "loss=4.707748: 100%|██████████████████████████| 500/500 [00:17<00:00, 27.90it/s]\n",
      "--------------------------------------------------\n",
      "dev perplexity | 32.0442\n",
      "# words in dev | 4557\n",
      "--------------------------------------------------\n",
      "Saving model\n",
      "Finished saving model\n",
      "--------------------------------------------------\n",
      "computing bleu\n",
      "100%|█████████████████████████████████████████| 500/500 [00:15<00:00, 33.30it/s]\n",
      "BLEU: 13.282\n",
      "finished computing bleu ... \n",
      "--------------------------------------------------\n",
      "epoch=12, iter=120000, loss=5.680970, mean loss=4.735794: 100%|█| 10000/10000 [20:38<00:00,  8.07it/s]\n",
      "--------------------------------------------------\n",
      "precision  | 0.2603\n",
      "recall     | 0.2679\n",
      "f1         | 0.2641\n",
      "--------------------------------------------------\n",
      "computing perplexity\n",
      "loss=4.580187: 100%|██████████████████████████| 500/500 [00:18<00:00, 26.46it/s]\n",
      "--------------------------------------------------\n",
      "dev perplexity | 31.9929\n",
      "# words in dev | 4557\n",
      "--------------------------------------------------\n",
      "Saving model\n",
      "Finished saving model\n",
      "--------------------------------------------------\n",
      "Training set predictions\n",
      "English predictions, s=0, num=3:\n",
      "--------------------------------------------------\n",
      "Src | ステーキ は 中位 で 焼 い て くださ い 。                                                       \n",
      "Ref | i like my steak medium .                                                        \n",
      "Hyp | i like _UNK _UNK . . _EOS                                                       \n",
      "--------------------------------------------------\n",
      "precision | 0.4286\n",
      "recall | 0.5000\n",
      "--------------------------------------------------\n",
      "Src | 彼女 の 美し さ に 関 し て は 、 疑 う 余地 が な い 。                                            \n",
      "Ref | there is no doubt as to her beauty .                                            \n",
      "Hyp | there is is is , is is than . . _EOS                                            \n",
      "--------------------------------------------------\n",
      "precision | 0.2727\n",
      "recall | 0.3333\n",
      "--------------------------------------------------\n",
      "Src | この 近所 の 家 は どれ も とても よく 似 て い る の で 見分け が つ か な い 。                             \n",
      "Ref | all the houses in this neighborhood look so much alike that i can &apos;t tell them apart .\n",
      "Hyp | i can &apos;t this this this you this this i this . . . _EOS                    \n",
      "--------------------------------------------------\n",
      "precision | 0.3333\n",
      "recall | 0.2778\n",
      "sentences matching filter = 3\n",
      "--------------------------------------------------\n",
      "dev set predictions\n",
      "English predictions, s=10000, num=3:\n",
      "--------------------------------------------------\n",
      "Src | この 路地 は 通り抜け でき ま せ ん 。                                                         \n",
      "Ref | this is a dead @-@ end alley .                                                  \n",
      "Hyp | this can &apos;t &apos;t this . . _EOS                                          \n",
      "--------------------------------------------------\n",
      "precision | 0.2500\n",
      "recall | 0.2500\n",
      "--------------------------------------------------\n",
      "Src | ええ 、 届 い た の を お 知 らせ する の を 忘れ て しま っ て す み ま せ ん 。                            \n",
      "Ref | yes , sorry , i forgot to acknowledge it .                                      \n",
      "Hyp | i &apos;m i to you you you you to the the . . . _EOS                            \n",
      "--------------------------------------------------\n",
      "precision | 0.2000\n",
      "recall | 0.3000\n",
      "--------------------------------------------------\n",
      "Src | 彼 は ドイツ 生まれ の 人 だ 。                                                             \n",
      "Ref | he is a german by origin .                                                      \n",
      "Hyp | he is a a . . _EOS                                                              \n",
      "--------------------------------------------------\n",
      "precision | 0.5714\n",
      "recall | 0.5714\n",
      "sentences matching filter = 3\n",
      "--------------------------------------------------\n",
      "--------------------------------------------------\n",
      "--------------------------------------------------\n",
      "Finished training. Filenames:\n",
      "model/train_10000sen_1-1layers_100units_baseline_NO_ATTN.log\n",
      "model/seq2seq_10000sen_1-1layers_100units_baseline_NO_ATTN.model\n",
      "Finished training mt model\n"
     ]
    }
   ],
   "source": [
    "# baseline\n",
    "!./run_exp"
   ]
  },
  {
   "cell_type": "code",
   "execution_count": 61,
   "metadata": {},
   "outputs": [
    {
     "name": "stderr",
     "output_type": "stream",
     "text": [
      "100%|██████████| 500/500 [00:14<00:00, 34.26it/s]\n"
     ]
    },
    {
     "name": "stdout",
     "output_type": "stream",
     "text": [
      "BLEU: 14.470\n"
     ]
    },
    {
     "data": {
      "text/plain": [
       "14.46960011513064"
      ]
     },
     "execution_count": 61,
     "metadata": {},
     "output_type": "execute_result"
    }
   ],
   "source": [
    "compute_dev_bleu()"
   ]
  },
  {
   "cell_type": "code",
   "execution_count": 94,
   "metadata": {},
   "outputs": [
    {
     "name": "stdout",
     "output_type": "stream",
     "text": [
      "Running mt experiment\n",
      "/Users/jusjosgra/anaconda/lib/python3.5/site-packages/h5py/__init__.py:34: FutureWarning: Conversion of the second argument of issubdtype from `float` to `np.floating` is deprecated. In future, it will be treated as `np.float64 == np.dtype(float).type`.\n",
      "  from ._conv import register_converters as _register_converters\n",
      "Japanese English dataset configuration\n",
      "vocab size, en=3713, fr=3949\n",
      "--------------------------------------------------\n",
      "Training progress will be logged in:\n",
      "\tmodel/train_10000sen_2-3layers_100units_q3_attn_test_SOFT_ATTN.log\n",
      "--------------------------------------------------\n",
      "Trained model will be saved as:\n",
      "\tmodel/seq2seq_10000sen_2-3layers_100units_q3_attn_test_SOFT_ATTN.model\n",
      "--------------------------------------------------\n",
      "Existing model not found!\n",
      "--------------------------------------------------\n",
      "epoch=1, iter=0, loss=0.000000, mean loss=0.000000:   0%| | 0/10000 [00:00<?, ?it/s]\n",
      "Traceback (most recent call last):\n",
      "  File \"nmt_translate.py\", line 472, in <module>\n",
      "    main()\n",
      "  File \"nmt_translate.py\", line 469, in main\n",
      "    train_loop(text_fname, NUM_TRAINING_SENTENCES, NUM_EPOCHS)\n",
      "  File \"nmt_translate.py\", line 221, in train_loop\n",
      "    loss = model.encode_decode_train(fr_ids, en_ids)\n",
      "  File \"/Users/jusjosgra/uni/MT/INFR11062/enc_dec.py\", line 281, in encode_decode_train\n",
      "    h_bar = F.tanh(self.attention(alignment))\n",
      "  File \"/Users/jusjosgra/anaconda/lib/python3.5/site-packages/chainer/links/connection/linear.py\", line 129, in __call__\n",
      "    return linear.linear(x, self.W, self.b)\n",
      "  File \"/Users/jusjosgra/anaconda/lib/python3.5/site-packages/chainer/functions/connection/linear.py\", line 175, in linear\n",
      "    y, = LinearFunction().apply(args)\n",
      "  File \"/Users/jusjosgra/anaconda/lib/python3.5/site-packages/chainer/function_node.py\", line 230, in apply\n",
      "    self._check_data_type_forward(in_data)\n",
      "  File \"/Users/jusjosgra/anaconda/lib/python3.5/site-packages/chainer/function_node.py\", line 298, in _check_data_type_forward\n",
      "    self.check_type_forward(in_type)\n",
      "  File \"/Users/jusjosgra/anaconda/lib/python3.5/site-packages/chainer/functions/connection/linear.py\", line 20, in check_type_forward\n",
      "    x_type.shape[1] == w_type.shape[1],\n",
      "  File \"/Users/jusjosgra/anaconda/lib/python3.5/site-packages/chainer/utils/type_check.py\", line 524, in expect\n",
      "    expr.expect()\n",
      "  File \"/Users/jusjosgra/anaconda/lib/python3.5/site-packages/chainer/utils/type_check.py\", line 482, in expect\n",
      "    '{0} {1} {2}'.format(left, self.inv, right))\n",
      "chainer.utils.type_check.InvalidType: \n",
      "Invalid operation is performed in: LinearFunction (Forward)\n",
      "\n",
      "Expect: in_types[0].shape[1] == in_types[1].shape[1]\n",
      "Actual: 10 != 3713\n",
      "Finished training mt model\n"
     ]
    }
   ],
   "source": [
    "# q2 exp1 2 enc 3 dec\n",
    "!./run_exp"
   ]
  },
  {
   "cell_type": "code",
   "execution_count": 66,
   "metadata": {},
   "outputs": [
    {
     "name": "stderr",
     "output_type": "stream",
     "text": [
      "100%|██████████| 500/500 [00:17<00:00, 28.39it/s]\n"
     ]
    },
    {
     "name": "stdout",
     "output_type": "stream",
     "text": [
      "BLEU: 14.470\n"
     ]
    },
    {
     "data": {
      "text/plain": [
       "14.46960011513064"
      ]
     },
     "execution_count": 66,
     "metadata": {},
     "output_type": "execute_result"
    }
   ],
   "source": [
    "compute_dev_bleu()"
   ]
  },
  {
   "cell_type": "code",
   "execution_count": 68,
   "metadata": {},
   "outputs": [
    {
     "data": {
      "text/plain": [
       "<enc_dec.EncoderDecoder at 0x10a84f470>"
      ]
     },
     "execution_count": 68,
     "metadata": {},
     "output_type": "execute_result"
    }
   ],
   "source": [
    "model"
   ]
  },
  {
   "cell_type": "code",
   "execution_count": null,
   "metadata": {},
   "outputs": [],
   "source": []
  }
 ],
 "metadata": {
  "kernelspec": {
   "display_name": "Python [conda root]",
   "language": "python",
   "name": "conda-root-py"
  },
  "language_info": {
   "codemirror_mode": {
    "name": "ipython",
    "version": 3
   },
   "file_extension": ".py",
   "mimetype": "text/x-python",
   "name": "python",
   "nbconvert_exporter": "python",
   "pygments_lexer": "ipython3",
   "version": "3.5.4"
  }
 },
 "nbformat": 4,
 "nbformat_minor": 2
}
