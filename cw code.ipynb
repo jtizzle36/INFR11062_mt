{
 "cells": [
  {
   "cell_type": "code",
   "execution_count": 10,
   "metadata": {
    "collapsed": true
   },
   "outputs": [
    {
     "ename": "ImportError",
     "evalue": "No module named 'enc_dec.py'; 'enc_dec' is not a package",
     "output_type": "error",
     "traceback": [
      "\u001b[0;31m---------------------------------------------------------------------------\u001b[0m",
      "\u001b[0;31mImportError\u001b[0m                               Traceback (most recent call last)",
      "\u001b[0;32m<ipython-input-10-a5a503ca6f58>\u001b[0m in \u001b[0;36m<module>\u001b[0;34m()\u001b[0m\n\u001b[1;32m      1\u001b[0m \u001b[0;32mimport\u001b[0m \u001b[0mmatplotlib\u001b[0m\u001b[0;34m.\u001b[0m\u001b[0mpyplot\u001b[0m \u001b[0;32mas\u001b[0m \u001b[0mplt\u001b[0m\u001b[0;34m\u001b[0m\u001b[0m\n\u001b[1;32m      2\u001b[0m \u001b[0;32mimport\u001b[0m \u001b[0mseaborn\u001b[0m \u001b[0;32mas\u001b[0m \u001b[0msns\u001b[0m\u001b[0;34m\u001b[0m\u001b[0m\n\u001b[0;32m----> 3\u001b[0;31m \u001b[0;32mfrom\u001b[0m \u001b[0menc_dec\u001b[0m\u001b[0;34m.\u001b[0m\u001b[0mpy\u001b[0m \u001b[0;32mimport\u001b[0m \u001b[0;34m*\u001b[0m\u001b[0;34m\u001b[0m\u001b[0m\n\u001b[0m\u001b[1;32m      4\u001b[0m \u001b[0;32mfrom\u001b[0m \u001b[0mnmt_translate\u001b[0m\u001b[0;34m.\u001b[0m\u001b[0mpy\u001b[0m \u001b[0;32mimport\u001b[0m \u001b[0;34m*\u001b[0m\u001b[0;34m\u001b[0m\u001b[0m\n",
      "\u001b[0;31mImportError\u001b[0m: No module named 'enc_dec.py'; 'enc_dec' is not a package"
     ]
    }
   ],
   "source": [
    "import matplotlib.pyplot as plt\n",
    "import seaborn as sns"
   ]
  },
  {
   "cell_type": "code",
   "execution_count": 2,
   "metadata": {
    "collapsed": true
   },
   "outputs": [],
   "source": [
    "%matplotlib inline\n",
    "sns.set(rc={'figure.figsize':(10,6)})"
   ]
  },
  {
   "cell_type": "code",
   "execution_count": 3,
   "metadata": {},
   "outputs": [
    {
     "name": "stdout",
     "output_type": "stream",
     "text": [
      "\u001b[34m__pycache__\u001b[m\u001b[m/      enc_dec.py        nmt_config.py     \u001b[31mrun_exp\u001b[m\u001b[m*\n",
      "cw code.ipynb     \u001b[34mfonts\u001b[m\u001b[m/            nmt_translate.py\n",
      "\u001b[34mdata\u001b[m\u001b[m/             \u001b[34mmodel\u001b[m\u001b[m/            readme.md\n"
     ]
    }
   ],
   "source": [
    "ls"
   ]
  },
  {
   "cell_type": "code",
   "execution_count": 4,
   "metadata": {},
   "outputs": [
    {
     "name": "stderr",
     "output_type": "stream",
     "text": [
      "/Users/jusjosgra/anaconda/lib/python3.5/site-packages/h5py/__init__.py:34: FutureWarning: Conversion of the second argument of issubdtype from `float` to `np.floating` is deprecated. In future, it will be treated as `np.float64 == np.dtype(float).type`.\n",
      "  from ._conv import register_converters as _register_converters\n",
      "epoch=1, iter=0, loss=0.000000, mean loss=0.000000:   0%|          | 0/10000 [00:00<?, ?it/s]"
     ]
    },
    {
     "name": "stdout",
     "output_type": "stream",
     "text": [
      "Japanese English dataset configuration\n",
      "vocab size, en=3713, fr=3949\n",
      "--------------------------------------------------\n",
      "Training progress will be logged in:\n",
      "\tmodel/train_10000sen_1-1layers_100units_q3_attn_test_SOFT_ATTN.log\n",
      "--------------------------------------------------\n",
      "Trained model will be saved as:\n",
      "\tmodel/seq2seq_10000sen_1-1layers_100units_q3_attn_test_SOFT_ATTN.model\n",
      "--------------------------------------------------\n",
      "Existing model not found!\n",
      "--------------------------------------------------\n"
     ]
    },
    {
     "name": "stderr",
     "output_type": "stream",
     "text": [
      "epoch=1, iter=90, loss=8.062649, mean loss=9.003581:   1%|          | 90/10000 [00:12<24:24,  6.77it/s]\n"
     ]
    },
    {
     "ename": "KeyboardInterrupt",
     "evalue": "",
     "output_type": "error",
     "traceback": [
      "\u001b[0;31m---------------------------------------------------------------------------\u001b[0m",
      "\u001b[0;31mKeyboardInterrupt\u001b[0m                         Traceback (most recent call last)",
      "\u001b[0;32m/Users/jusjosgra/uni/MT/INFR11062/nmt_translate.py\u001b[0m in \u001b[0;36m<module>\u001b[0;34m()\u001b[0m\n\u001b[1;32m    470\u001b[0m \u001b[0;34m\u001b[0m\u001b[0m\n\u001b[1;32m    471\u001b[0m \u001b[0;32mif\u001b[0m \u001b[0m__name__\u001b[0m \u001b[0;34m==\u001b[0m \u001b[0;34m\"__main__\"\u001b[0m\u001b[0;34m:\u001b[0m\u001b[0;34m\u001b[0m\u001b[0m\n\u001b[0;32m--> 472\u001b[0;31m     \u001b[0mmain\u001b[0m\u001b[0;34m(\u001b[0m\u001b[0;34m)\u001b[0m\u001b[0;34m\u001b[0m\u001b[0m\n\u001b[0m\u001b[1;32m    473\u001b[0m \u001b[0;34m\u001b[0m\u001b[0m\n\u001b[1;32m    474\u001b[0m \u001b[0;31m#---------------------------------------------------------------------\u001b[0m\u001b[0;34m\u001b[0m\u001b[0;34m\u001b[0m\u001b[0m\n",
      "\u001b[0;32m/Users/jusjosgra/uni/MT/INFR11062/nmt_translate.py\u001b[0m in \u001b[0;36mmain\u001b[0;34m()\u001b[0m\n\u001b[1;32m    467\u001b[0m \u001b[0;34m\u001b[0m\u001b[0m\n\u001b[1;32m    468\u001b[0m     \u001b[0;32mif\u001b[0m \u001b[0mNUM_EPOCHS\u001b[0m \u001b[0;34m>\u001b[0m \u001b[0;36m0\u001b[0m\u001b[0;34m:\u001b[0m\u001b[0;34m\u001b[0m\u001b[0m\n\u001b[0;32m--> 469\u001b[0;31m         \u001b[0mtrain_loop\u001b[0m\u001b[0;34m(\u001b[0m\u001b[0mtext_fname\u001b[0m\u001b[0;34m,\u001b[0m \u001b[0mNUM_TRAINING_SENTENCES\u001b[0m\u001b[0;34m,\u001b[0m \u001b[0mNUM_EPOCHS\u001b[0m\u001b[0;34m)\u001b[0m\u001b[0;34m\u001b[0m\u001b[0m\n\u001b[0m\u001b[1;32m    470\u001b[0m \u001b[0;34m\u001b[0m\u001b[0m\n\u001b[1;32m    471\u001b[0m \u001b[0;32mif\u001b[0m \u001b[0m__name__\u001b[0m \u001b[0;34m==\u001b[0m \u001b[0;34m\"__main__\"\u001b[0m\u001b[0;34m:\u001b[0m\u001b[0;34m\u001b[0m\u001b[0m\n",
      "\u001b[0;32m/Users/jusjosgra/uni/MT/INFR11062/nmt_translate.py\u001b[0m in \u001b[0;36mtrain_loop\u001b[0;34m(text_fname, num_training, num_epochs, log_mode)\u001b[0m\n\u001b[1;32m    224\u001b[0m                     \u001b[0mmodel\u001b[0m\u001b[0;34m.\u001b[0m\u001b[0mcleargrads\u001b[0m\u001b[0;34m(\u001b[0m\u001b[0;34m)\u001b[0m\u001b[0;34m\u001b[0m\u001b[0m\n\u001b[1;32m    225\u001b[0m                     \u001b[0;31m# backprop\u001b[0m\u001b[0;34m\u001b[0m\u001b[0;34m\u001b[0m\u001b[0m\n\u001b[0;32m--> 226\u001b[0;31m                     \u001b[0mloss\u001b[0m\u001b[0;34m.\u001b[0m\u001b[0mbackward\u001b[0m\u001b[0;34m(\u001b[0m\u001b[0;34m)\u001b[0m\u001b[0;34m\u001b[0m\u001b[0m\n\u001b[0m\u001b[1;32m    227\u001b[0m                     \u001b[0;31m# update parameters\u001b[0m\u001b[0;34m\u001b[0m\u001b[0;34m\u001b[0m\u001b[0m\n\u001b[1;32m    228\u001b[0m                     \u001b[0;31m# we optimize with Adam for the first 4 epochs and switch to SGD afterwards\u001b[0m\u001b[0;34m\u001b[0m\u001b[0;34m\u001b[0m\u001b[0m\n",
      "\u001b[0;32m/Users/jusjosgra/anaconda/lib/python3.5/site-packages/chainer/variable.py\u001b[0m in \u001b[0;36mbackward\u001b[0;34m(self, retain_grad, enable_double_backprop)\u001b[0m\n\u001b[1;32m    887\u001b[0m         \"\"\"\n\u001b[1;32m    888\u001b[0m         \u001b[0;32mwith\u001b[0m \u001b[0mchainer\u001b[0m\u001b[0;34m.\u001b[0m\u001b[0musing_config\u001b[0m\u001b[0;34m(\u001b[0m\u001b[0;34m'enable_backprop'\u001b[0m\u001b[0;34m,\u001b[0m \u001b[0menable_double_backprop\u001b[0m\u001b[0;34m)\u001b[0m\u001b[0;34m:\u001b[0m\u001b[0;34m\u001b[0m\u001b[0m\n\u001b[0;32m--> 889\u001b[0;31m             \u001b[0mself\u001b[0m\u001b[0;34m.\u001b[0m\u001b[0m_backward_main\u001b[0m\u001b[0;34m(\u001b[0m\u001b[0mretain_grad\u001b[0m\u001b[0;34m)\u001b[0m\u001b[0;34m\u001b[0m\u001b[0m\n\u001b[0m\u001b[1;32m    890\u001b[0m \u001b[0;34m\u001b[0m\u001b[0m\n\u001b[1;32m    891\u001b[0m     \u001b[0;32mdef\u001b[0m \u001b[0m_backward_main\u001b[0m\u001b[0;34m(\u001b[0m\u001b[0mself\u001b[0m\u001b[0;34m,\u001b[0m \u001b[0mretain_grad\u001b[0m\u001b[0;34m)\u001b[0m\u001b[0;34m:\u001b[0m\u001b[0;34m\u001b[0m\u001b[0m\n",
      "\u001b[0;32m/Users/jusjosgra/anaconda/lib/python3.5/site-packages/chainer/variable.py\u001b[0m in \u001b[0;36m_backward_main\u001b[0;34m(self, retain_grad)\u001b[0m\n\u001b[1;32m    988\u001b[0m \u001b[0;34m\u001b[0m\u001b[0m\n\u001b[1;32m    989\u001b[0m             gxs = func.backward_accumulate(\n\u001b[0;32m--> 990\u001b[0;31m                 target_input_indexes, out_grad, in_grad)\n\u001b[0m\u001b[1;32m    991\u001b[0m \u001b[0;34m\u001b[0m\u001b[0m\n\u001b[1;32m    992\u001b[0m             \u001b[0;32massert\u001b[0m \u001b[0mlen\u001b[0m\u001b[0;34m(\u001b[0m\u001b[0mgxs\u001b[0m\u001b[0;34m)\u001b[0m \u001b[0;34m==\u001b[0m \u001b[0mlen\u001b[0m\u001b[0;34m(\u001b[0m\u001b[0min_grad\u001b[0m\u001b[0;34m)\u001b[0m\u001b[0;34m\u001b[0m\u001b[0m\n",
      "\u001b[0;32m/Users/jusjosgra/anaconda/lib/python3.5/site-packages/chainer/function_node.py\u001b[0m in \u001b[0;36mbackward_accumulate\u001b[0;34m(self, target_input_indexes, grad_outputs, grad_inputs)\u001b[0m\n\u001b[1;32m    525\u001b[0m                       \u001b[0mg_input\u001b[0m \u001b[0;32mif\u001b[0m \u001b[0mgx\u001b[0m \u001b[0;32mis\u001b[0m \u001b[0;32mNone\u001b[0m \u001b[0;32melse\u001b[0m\u001b[0;34m\u001b[0m\u001b[0m\n\u001b[1;32m    526\u001b[0m                       \u001b[0mgx\u001b[0m \u001b[0;34m+\u001b[0m \u001b[0mg_input\u001b[0m\u001b[0;34m\u001b[0m\u001b[0m\n\u001b[0;32m--> 527\u001b[0;31m                       for gx, g_input in six.moves.zip(gxs, grad_inputs)])\n\u001b[0m\u001b[1;32m    528\u001b[0m \u001b[0;34m\u001b[0m\u001b[0m\n\u001b[1;32m    529\u001b[0m     \u001b[0;32mdef\u001b[0m \u001b[0mget_retained_inputs\u001b[0m\u001b[0;34m(\u001b[0m\u001b[0mself\u001b[0m\u001b[0;34m)\u001b[0m\u001b[0;34m:\u001b[0m\u001b[0;34m\u001b[0m\u001b[0m\n",
      "\u001b[0;32m/Users/jusjosgra/anaconda/lib/python3.5/site-packages/chainer/function_node.py\u001b[0m in \u001b[0;36m<listcomp>\u001b[0;34m(.0)\u001b[0m\n\u001b[1;32m    525\u001b[0m                       \u001b[0mg_input\u001b[0m \u001b[0;32mif\u001b[0m \u001b[0mgx\u001b[0m \u001b[0;32mis\u001b[0m \u001b[0;32mNone\u001b[0m \u001b[0;32melse\u001b[0m\u001b[0;34m\u001b[0m\u001b[0m\n\u001b[1;32m    526\u001b[0m                       \u001b[0mgx\u001b[0m \u001b[0;34m+\u001b[0m \u001b[0mg_input\u001b[0m\u001b[0;34m\u001b[0m\u001b[0m\n\u001b[0;32m--> 527\u001b[0;31m                       for gx, g_input in six.moves.zip(gxs, grad_inputs)])\n\u001b[0m\u001b[1;32m    528\u001b[0m \u001b[0;34m\u001b[0m\u001b[0m\n\u001b[1;32m    529\u001b[0m     \u001b[0;32mdef\u001b[0m \u001b[0mget_retained_inputs\u001b[0m\u001b[0;34m(\u001b[0m\u001b[0mself\u001b[0m\u001b[0;34m)\u001b[0m\u001b[0;34m:\u001b[0m\u001b[0;34m\u001b[0m\u001b[0m\n",
      "\u001b[0;32m/Users/jusjosgra/anaconda/lib/python3.5/site-packages/chainer/functions/math/basic_math.py\u001b[0m in \u001b[0;36madd\u001b[0;34m(self, rhs)\u001b[0m\n\u001b[1;32m    177\u001b[0m     \"\"\"\n\u001b[1;32m    178\u001b[0m     \u001b[0;32mif\u001b[0m \u001b[0misinstance\u001b[0m\u001b[0;34m(\u001b[0m\u001b[0mrhs\u001b[0m\u001b[0;34m,\u001b[0m \u001b[0mvariable\u001b[0m\u001b[0;34m.\u001b[0m\u001b[0mVariable\u001b[0m\u001b[0;34m)\u001b[0m\u001b[0;34m:\u001b[0m\u001b[0;34m\u001b[0m\u001b[0m\n\u001b[0;32m--> 179\u001b[0;31m         \u001b[0;32mreturn\u001b[0m \u001b[0mAdd\u001b[0m\u001b[0;34m(\u001b[0m\u001b[0;34m)\u001b[0m\u001b[0;34m.\u001b[0m\u001b[0mapply\u001b[0m\u001b[0;34m(\u001b[0m\u001b[0;34m(\u001b[0m\u001b[0mself\u001b[0m\u001b[0;34m,\u001b[0m \u001b[0mrhs\u001b[0m\u001b[0;34m)\u001b[0m\u001b[0;34m)\u001b[0m\u001b[0;34m[\u001b[0m\u001b[0;36m0\u001b[0m\u001b[0;34m]\u001b[0m\u001b[0;34m\u001b[0m\u001b[0m\n\u001b[0m\u001b[1;32m    180\u001b[0m     \u001b[0m_check_constant_type\u001b[0m\u001b[0;34m(\u001b[0m\u001b[0mrhs\u001b[0m\u001b[0;34m)\u001b[0m\u001b[0;34m\u001b[0m\u001b[0m\n\u001b[1;32m    181\u001b[0m     \u001b[0;32mreturn\u001b[0m \u001b[0mAddConstant\u001b[0m\u001b[0;34m(\u001b[0m\u001b[0mrhs\u001b[0m\u001b[0;34m)\u001b[0m\u001b[0;34m.\u001b[0m\u001b[0mapply\u001b[0m\u001b[0;34m(\u001b[0m\u001b[0;34m(\u001b[0m\u001b[0mself\u001b[0m\u001b[0;34m,\u001b[0m\u001b[0;34m)\u001b[0m\u001b[0;34m)\u001b[0m\u001b[0;34m[\u001b[0m\u001b[0;36m0\u001b[0m\u001b[0;34m]\u001b[0m\u001b[0;34m\u001b[0m\u001b[0m\n",
      "\u001b[0;32m/Users/jusjosgra/anaconda/lib/python3.5/site-packages/chainer/function_node.py\u001b[0m in \u001b[0;36mapply\u001b[0;34m(self, inputs)\u001b[0m\n\u001b[1;32m    243\u001b[0m             \u001b[0mself\u001b[0m\u001b[0;34m.\u001b[0m\u001b[0m_input_indexes_to_retain\u001b[0m \u001b[0;34m=\u001b[0m \u001b[0;32mNone\u001b[0m\u001b[0;34m\u001b[0m\u001b[0m\n\u001b[1;32m    244\u001b[0m             \u001b[0mself\u001b[0m\u001b[0;34m.\u001b[0m\u001b[0m_output_indexes_to_retain\u001b[0m \u001b[0;34m=\u001b[0m \u001b[0;32mNone\u001b[0m\u001b[0;34m\u001b[0m\u001b[0m\n\u001b[0;32m--> 245\u001b[0;31m             \u001b[0moutputs\u001b[0m \u001b[0;34m=\u001b[0m \u001b[0mself\u001b[0m\u001b[0;34m.\u001b[0m\u001b[0mforward\u001b[0m\u001b[0;34m(\u001b[0m\u001b[0min_data\u001b[0m\u001b[0;34m)\u001b[0m\u001b[0;34m\u001b[0m\u001b[0m\n\u001b[0m\u001b[1;32m    246\u001b[0m             \u001b[0;32massert\u001b[0m \u001b[0mtype\u001b[0m\u001b[0;34m(\u001b[0m\u001b[0moutputs\u001b[0m\u001b[0;34m)\u001b[0m \u001b[0;32mis\u001b[0m \u001b[0mtuple\u001b[0m\u001b[0;34m\u001b[0m\u001b[0m\n\u001b[1;32m    247\u001b[0m \u001b[0;34m\u001b[0m\u001b[0m\n",
      "\u001b[0;32m/Users/jusjosgra/anaconda/lib/python3.5/site-packages/chainer/functions/math/basic_math.py\u001b[0m in \u001b[0;36mforward\u001b[0;34m(self, x)\u001b[0m\n\u001b[1;32m    143\u001b[0m \u001b[0;34m\u001b[0m\u001b[0m\n\u001b[1;32m    144\u001b[0m     \u001b[0;32mdef\u001b[0m \u001b[0mforward\u001b[0m\u001b[0;34m(\u001b[0m\u001b[0mself\u001b[0m\u001b[0;34m,\u001b[0m \u001b[0mx\u001b[0m\u001b[0;34m)\u001b[0m\u001b[0;34m:\u001b[0m\u001b[0;34m\u001b[0m\u001b[0m\n\u001b[0;32m--> 145\u001b[0;31m         \u001b[0my\u001b[0m \u001b[0;34m=\u001b[0m \u001b[0mutils\u001b[0m\u001b[0;34m.\u001b[0m\u001b[0mforce_array\u001b[0m\u001b[0;34m(\u001b[0m\u001b[0mx\u001b[0m\u001b[0;34m[\u001b[0m\u001b[0;36m0\u001b[0m\u001b[0;34m]\u001b[0m \u001b[0;34m+\u001b[0m \u001b[0mx\u001b[0m\u001b[0;34m[\u001b[0m\u001b[0;36m1\u001b[0m\u001b[0;34m]\u001b[0m\u001b[0;34m)\u001b[0m\u001b[0;34m\u001b[0m\u001b[0m\n\u001b[0m\u001b[1;32m    146\u001b[0m         \u001b[0;32mreturn\u001b[0m \u001b[0my\u001b[0m\u001b[0;34m,\u001b[0m\u001b[0;34m\u001b[0m\u001b[0m\n\u001b[1;32m    147\u001b[0m \u001b[0;34m\u001b[0m\u001b[0m\n",
      "\u001b[0;31mKeyboardInterrupt\u001b[0m: "
     ]
    }
   ],
   "source": [
    "%run nmt_translate.py"
   ]
  },
  {
   "cell_type": "code",
   "execution_count": 37,
   "metadata": {},
   "outputs": [
    {
     "name": "stdout",
     "output_type": "stream",
     "text": [
      "English predictions, s=1000, num=10:\n"
     ]
    },
    {
     "ename": "AttributeError",
     "evalue": "'list' object has no attribute 'h'",
     "output_type": "error",
     "traceback": [
      "\u001b[0;31m---------------------------------------------------------------------------\u001b[0m",
      "\u001b[0;31mAttributeError\u001b[0m                            Traceback (most recent call last)",
      "\u001b[0;32m<ipython-input-37-4e4cf08b50cb>\u001b[0m in \u001b[0;36m<module>\u001b[0;34m()\u001b[0m\n\u001b[0;32m----> 1\u001b[0;31m \u001b[0m_\u001b[0m \u001b[0;34m=\u001b[0m \u001b[0mpredict\u001b[0m\u001b[0;34m(\u001b[0m\u001b[0ms\u001b[0m\u001b[0;34m=\u001b[0m\u001b[0;36m1000\u001b[0m\u001b[0;34m,\u001b[0m\u001b[0mnum\u001b[0m\u001b[0;34m=\u001b[0m\u001b[0;36m10\u001b[0m\u001b[0;34m)\u001b[0m\u001b[0;34m\u001b[0m\u001b[0m\n\u001b[0m",
      "\u001b[0;32m/Users/jusjosgra/uni/MT/INFR11062/nmt_translate.py\u001b[0m in \u001b[0;36mpredict\u001b[0;34m(s, num, display, plot, p_filt, r_filt, sample)\u001b[0m\n\u001b[1;32m    424\u001b[0m                                              \u001b[0mplot_name\u001b[0m\u001b[0;34m=\u001b[0m\u001b[0mplot_name\u001b[0m\u001b[0;34m,\u001b[0m\u001b[0;34m\u001b[0m\u001b[0m\n\u001b[1;32m    425\u001b[0m                                              \u001b[0mp_filt\u001b[0m\u001b[0;34m=\u001b[0m\u001b[0mp_filt\u001b[0m\u001b[0;34m,\u001b[0m \u001b[0mr_filt\u001b[0m\u001b[0;34m=\u001b[0m\u001b[0mr_filt\u001b[0m\u001b[0;34m,\u001b[0m\u001b[0;34m\u001b[0m\u001b[0m\n\u001b[0;32m--> 426\u001b[0;31m                                              sample=sample)\n\u001b[0m\u001b[1;32m    427\u001b[0m                 \u001b[0mmetrics\u001b[0m\u001b[0;34m[\u001b[0m\u001b[0;34m\"cp\"\u001b[0m\u001b[0;34m]\u001b[0m\u001b[0;34m.\u001b[0m\u001b[0mappend\u001b[0m\u001b[0;34m(\u001b[0m\u001b[0mcp\u001b[0m\u001b[0;34m)\u001b[0m\u001b[0;34m\u001b[0m\u001b[0m\n\u001b[1;32m    428\u001b[0m                 \u001b[0mmetrics\u001b[0m\u001b[0;34m[\u001b[0m\u001b[0;34m\"tp\"\u001b[0m\u001b[0;34m]\u001b[0m\u001b[0;34m.\u001b[0m\u001b[0mappend\u001b[0m\u001b[0;34m(\u001b[0m\u001b[0mtp\u001b[0m\u001b[0;34m)\u001b[0m\u001b[0;34m\u001b[0m\u001b[0m\n",
      "\u001b[0;32m/Users/jusjosgra/uni/MT/INFR11062/nmt_translate.py\u001b[0m in \u001b[0;36mpredict_sentence\u001b[0;34m(line_fr, line_en, display, plot_name, p_filt, r_filt, sample)\u001b[0m\n\u001b[1;32m    357\u001b[0m     pred_ids, alpha_arr = model.encode_decode_predict(fr_ids, \n\u001b[1;32m    358\u001b[0m                                                       \u001b[0mmax_predict_len\u001b[0m\u001b[0;34m=\u001b[0m\u001b[0mMAX_PREDICT_LEN\u001b[0m\u001b[0;34m,\u001b[0m\u001b[0;34m\u001b[0m\u001b[0m\n\u001b[0;32m--> 359\u001b[0;31m                                                       sample=sample)\n\u001b[0m\u001b[1;32m    360\u001b[0m     \u001b[0mpred_words\u001b[0m \u001b[0;34m=\u001b[0m \u001b[0;34m[\u001b[0m\u001b[0mi2w\u001b[0m\u001b[0;34m[\u001b[0m\u001b[0;34m\"en\"\u001b[0m\u001b[0;34m]\u001b[0m\u001b[0;34m[\u001b[0m\u001b[0mw\u001b[0m\u001b[0;34m]\u001b[0m\u001b[0;34m.\u001b[0m\u001b[0mdecode\u001b[0m\u001b[0;34m(\u001b[0m\u001b[0;34m)\u001b[0m \u001b[0;32mfor\u001b[0m \u001b[0mw\u001b[0m \u001b[0;32min\u001b[0m \u001b[0mpred_ids\u001b[0m\u001b[0;34m]\u001b[0m\u001b[0;34m\u001b[0m\u001b[0m\n\u001b[1;32m    361\u001b[0m \u001b[0;34m\u001b[0m\u001b[0m\n",
      "\u001b[0;32m/Users/jusjosgra/uni/MT/INFR11062/enc_dec.py\u001b[0m in \u001b[0;36mencode_decode_predict\u001b[0;34m(self, in_word_list, max_predict_len, sample)\u001b[0m\n\u001b[1;32m    356\u001b[0m         \u001b[0;31m# your attention vectors.\u001b[0m\u001b[0;34m\u001b[0m\u001b[0;34m\u001b[0m\u001b[0m\n\u001b[1;32m    357\u001b[0m         \u001b[0;31m# The visualisation function in nmt_translate.py assumes such an array as input.\u001b[0m\u001b[0;34m\u001b[0m\u001b[0;34m\u001b[0m\u001b[0m\n\u001b[0;32m--> 358\u001b[0;31m         \u001b[0;32mreturn\u001b[0m \u001b[0mpredicted_sent\u001b[0m\u001b[0;34m,\u001b[0m \u001b[0malpha_arr\u001b[0m\u001b[0;34m\u001b[0m\u001b[0m\n\u001b[0m\u001b[1;32m    359\u001b[0m \u001b[0;34m\u001b[0m\u001b[0m\n\u001b[1;32m    360\u001b[0m     \u001b[0;32mdef\u001b[0m \u001b[0mencode_decode_predict\u001b[0m\u001b[0;34m(\u001b[0m\u001b[0mself\u001b[0m\u001b[0;34m,\u001b[0m \u001b[0min_word_list\u001b[0m\u001b[0;34m,\u001b[0m \u001b[0mmax_predict_len\u001b[0m\u001b[0;34m=\u001b[0m\u001b[0;36m20\u001b[0m\u001b[0;34m,\u001b[0m \u001b[0msample\u001b[0m\u001b[0;34m=\u001b[0m\u001b[0;32mFalse\u001b[0m\u001b[0;34m)\u001b[0m\u001b[0;34m:\u001b[0m\u001b[0;34m\u001b[0m\u001b[0m\n",
      "\u001b[0;32m/Users/jusjosgra/uni/MT/INFR11062/enc_dec.py\u001b[0m in \u001b[0;36mdecoder_predict\u001b[0;34m(self, start_word, enc_states, max_predict_len, sample)\u001b[0m\n\u001b[1;32m    326\u001b[0m \u001b[0;34m\u001b[0m\u001b[0m\n\u001b[1;32m    327\u001b[0m             \u001b[0;32mif\u001b[0m \u001b[0mself\u001b[0m\u001b[0;34m.\u001b[0m\u001b[0mattn\u001b[0m \u001b[0;34m==\u001b[0m \u001b[0mNO_ATTN\u001b[0m\u001b[0;34m:\u001b[0m\u001b[0;34m\u001b[0m\u001b[0m\n\u001b[0;32m--> 328\u001b[0;31m                 \u001b[0mprob\u001b[0m \u001b[0;34m=\u001b[0m \u001b[0mF\u001b[0m\u001b[0;34m.\u001b[0m\u001b[0msoftmax\u001b[0m\u001b[0;34m(\u001b[0m\u001b[0mself\u001b[0m\u001b[0;34m.\u001b[0m\u001b[0mout\u001b[0m\u001b[0;34m(\u001b[0m\u001b[0mself\u001b[0m\u001b[0;34m[\u001b[0m\u001b[0mself\u001b[0m\u001b[0;34m.\u001b[0m\u001b[0mlstm_dec\u001b[0m\u001b[0;34m[\u001b[0m\u001b[0;34m-\u001b[0m\u001b[0;36m1\u001b[0m\u001b[0;34m]\u001b[0m\u001b[0;34m]\u001b[0m\u001b[0;34m.\u001b[0m\u001b[0mh\u001b[0m\u001b[0;34m)\u001b[0m\u001b[0;34m)\u001b[0m\u001b[0;34m\u001b[0m\u001b[0m\n\u001b[0m\u001b[1;32m    329\u001b[0m             \u001b[0;32melse\u001b[0m\u001b[0;34m:\u001b[0m\u001b[0;34m\u001b[0m\u001b[0m\n\u001b[1;32m    330\u001b[0m                 \u001b[0;31m# __QUESTION Add attention\u001b[0m\u001b[0;34m\u001b[0m\u001b[0;34m\u001b[0m\u001b[0m\n",
      "\u001b[0;31mAttributeError\u001b[0m: 'list' object has no attribute 'h'"
     ]
    }
   ],
   "source": [
    "_ = predict(s=1000,num=10)"
   ]
  },
  {
   "cell_type": "code",
   "execution_count": 74,
   "metadata": {},
   "outputs": [
    {
     "name": "stdout",
     "output_type": "stream",
     "text": [
      "English predictions, s=0, num=10:\n",
      "--------------------------------------------------\n",
      "Src | ステーキ は 中位 で 焼 い て くださ い 。                                                       \n",
      "Ref | i like my steak medium .                                                        \n",
      "Hyp | please the the the the . . _EOS                                                 \n",
      "--------------------------------------------------\n",
      "precision | 0.1250\n",
      "recall | 0.1667\n",
      "--------------------------------------------------\n",
      "Src | 彼女 の 美し さ に 関 し て は 、 疑 う 余地 が な い 。                                            \n",
      "Ref | there is no doubt as to her beauty .                                            \n",
      "Hyp | there is no to her her her . . _EOS                                             \n",
      "--------------------------------------------------\n",
      "precision | 0.6000\n",
      "recall | 0.6667\n",
      "--------------------------------------------------\n",
      "Src | この 近所 の 家 は どれ も とても よく 似 て い る の で 見分け が つ か な い 。                             \n",
      "Ref | all the houses in this neighborhood look so much alike that i can &apos;t tell them apart .\n",
      "Hyp | this can is is , , this this this this this this . . . _EOS                     \n",
      "--------------------------------------------------\n",
      "precision | 0.1875\n",
      "recall | 0.1667\n",
      "--------------------------------------------------\n",
      "Src | 相撲 を 見 た こと が あ り ま す か 。                                                       \n",
      "Ref | have you ever watched sumo wrestling ?                                          \n",
      "Hyp | have you have _UNK _UNK ? ? _EOS                                                \n",
      "--------------------------------------------------\n",
      "precision | 0.3750\n",
      "recall | 0.4286\n",
      "--------------------------------------------------\n",
      "Src | 彼 は 、 その 川 を 泳 い で 渡 ろ う と し て 失敗 し た 。                                         \n",
      "Ref | he failed in his attempt to swim across the river .                             \n",
      "Hyp | he was the the the the the the the . . _EOS                                     \n",
      "--------------------------------------------------\n",
      "precision | 0.2500\n",
      "recall | 0.2727\n",
      "--------------------------------------------------\n",
      "Src | こちら に 着 い たら すぐ 連絡 し て 下さ い 。                                                   \n",
      "Ref | get in touch with me as soon as you arrive here .                               \n",
      "Hyp | please me to to to a a . . . _EOS                                               \n",
      "--------------------------------------------------\n",
      "precision | 0.1818\n",
      "recall | 0.1667\n",
      "--------------------------------------------------\n",
      "Src | 昼食 の 後 、 散歩 を する の は どう で す か 。                                                 \n",
      "Ref | how about going for a walk after lunch ?                                        \n",
      "Hyp | what is , , , in in ? _EOS                                                      \n",
      "--------------------------------------------------\n",
      "precision | 0.1111\n",
      "recall | 0.1111\n",
      "--------------------------------------------------\n",
      "Src | 彼女 は 彼 を 見 た だけ で も いや だっ た 。                                                   \n",
      "Ref | the sight of him was hateful to her .                                           \n",
      "Hyp | she was to to to to . . _EOS                                                    \n",
      "--------------------------------------------------\n",
      "precision | 0.3333\n",
      "recall | 0.3333\n",
      "--------------------------------------------------\n",
      "Src | うわさ は 四方 八方 に 広が っ た 。                                                          \n",
      "Ref | the rumor spread far and wide .                                                 \n",
      "Hyp | the _UNK _UNK in in . . _EOS                                                    \n",
      "--------------------------------------------------\n",
      "precision | 0.2500\n",
      "recall | 0.2857\n",
      "--------------------------------------------------\n",
      "Src | 老人 は 過去 を 振り返 り がち で あ る 。                                                      \n",
      "Ref | old people are inclined to look back on the past .                              \n",
      "Hyp | the is the the the the the . . _EOS                                             \n",
      "--------------------------------------------------\n",
      "precision | 0.2000\n",
      "recall | 0.1818\n",
      "sentences matching filter = 10\n"
     ]
    }
   ],
   "source": [
    "_ = predict(s=0, num=10)"
   ]
  },
  {
   "cell_type": "code",
   "execution_count": 75,
   "metadata": {},
   "outputs": [
    {
     "name": "stdout",
     "output_type": "stream",
     "text": [
      "English predictions, s=10000, num=10:\n",
      "--------------------------------------------------\n",
      "Src | 彼 は ドイツ 生まれ の 人 だ 。                                                             \n",
      "Ref | he is a german by origin .                                                      \n",
      "Hyp | he is a of of . . _EOS                                                          \n",
      "--------------------------------------------------\n",
      "precision | 0.5000\n",
      "recall | 0.5714\n",
      "sentences matching filter = 1\n"
     ]
    }
   ],
   "source": [
    "_ = predict(s=10000, num=10, r_filt=.5)"
   ]
  },
  {
   "cell_type": "code",
   "execution_count": 76,
   "metadata": {
    "collapsed": true
   },
   "outputs": [],
   "source": [
    "filename_en = 'Data/text.en'\n",
    "filename_jp = 'Data/text.fr'"
   ]
  },
  {
   "cell_type": "code",
   "execution_count": 77,
   "metadata": {
    "collapsed": true
   },
   "outputs": [],
   "source": [
    "def get_sentence_lengths(filename):\n",
    "\n",
    "    lines = [line.rstrip('\\n') for line in open(filename)]\n",
    "\n",
    "\n",
    "    sent_len = []\n",
    "\n",
    "    for i in range(0,len(lines)):\n",
    "        x = len(lines[i].split()) - 1\n",
    "        sent_len.append(x)\n",
    "        \n",
    "    return sent_len"
   ]
  },
  {
   "cell_type": "code",
   "execution_count": 78,
   "metadata": {
    "collapsed": true
   },
   "outputs": [],
   "source": [
    "sent_len_en = get_sentence_lengths(filename_en)\n",
    "sent_len_jp = get_sentence_lengths(filename_jp)"
   ]
  },
  {
   "cell_type": "code",
   "execution_count": 79,
   "metadata": {},
   "outputs": [],
   "source": [
    "dims = (10,6)"
   ]
  },
  {
   "cell_type": "code",
   "execution_count": 80,
   "metadata": {},
   "outputs": [
    {
     "data": {
      "image/png": "[encoded data removed]",
      "text/plain": [
       "<matplotlib.figure.Figure at 0x1a0f2fc438>"
      ]
     },
     "metadata": {},
     "output_type": "display_data"
    }
   ],
   "source": [
    "fig, ax = plt.subplots(figsize=dims)\n",
    "sns.distplot(sent_len_jp, ax=ax, label='Japanese')\n",
    "sns.distplot(sent_len_en, ax=ax, label='English')\n",
    "plt.title('Distribution of sentence lengths')\n",
    "ax.set(xlabel='Sentence length', ylabel='Density')\n",
    "plt.legend()\n",
    "plt.savefig('/Users/jusjosgra/uni/MT/plots/dist.pdf')"
   ]
  },
  {
   "cell_type": "code",
   "execution_count": 81,
   "metadata": {},
   "outputs": [
    {
     "data": {
      "text/plain": [
       "array([[1.        , 0.76626682],\n",
       "       [0.76626682, 1.        ]])"
      ]
     },
     "execution_count": 81,
     "metadata": {},
     "output_type": "execute_result"
    }
   ],
   "source": [
    "np.corrcoef(sent_len_jp,sent_len_en)"
   ]
  },
  {
   "cell_type": "code",
   "execution_count": 82,
   "metadata": {},
   "outputs": [
    {
     "data": {
      "image/png": "[encoded data removed]",
      "text/plain": [
       "<matplotlib.figure.Figure at 0x1a0f1c9748>"
      ]
     },
     "metadata": {},
     "output_type": "display_data"
    }
   ],
   "source": [
    "sns.regplot(np.array(sent_len_jp), np.array(sent_len_en))\n",
    "plt.xlabel('English sentence length')\n",
    "plt.ylabel('Japanese sentence length')\n",
    "plt.title('Distribution of sentence lengths')\n",
    "plt.savefig('/Users/jusjosgra/uni/MT/plots/corr.pdf')"
   ]
  },
  {
   "cell_type": "code",
   "execution_count": 83,
   "metadata": {
    "collapsed": true
   },
   "outputs": [],
   "source": [
    "filename = filename_en\n",
    "\n",
    "lines = [line.rstrip('\\n') for line in open(filename)]\n",
    "\n",
    "\n",
    "sents = []\n",
    "\n",
    "for i in range(0,len(lines)):\n",
    "    x = lines[i].split()\n",
    "    sents = sents + x"
   ]
  },
  {
   "cell_type": "code",
   "execution_count": 84,
   "metadata": {},
   "outputs": [
    {
     "data": {
      "text/plain": [
       "97643"
      ]
     },
     "execution_count": 84,
     "metadata": {},
     "output_type": "execute_result"
    }
   ],
   "source": [
    "len(sents)"
   ]
  },
  {
   "cell_type": "code",
   "execution_count": 85,
   "metadata": {},
   "outputs": [
    {
     "data": {
      "text/plain": [
       "7211"
      ]
     },
     "execution_count": 85,
     "metadata": {},
     "output_type": "execute_result"
    }
   ],
   "source": [
    "len(np.unique(sents))"
   ]
  },
  {
   "cell_type": "code",
   "execution_count": 86,
   "metadata": {
    "collapsed": true
   },
   "outputs": [],
   "source": [
    "filename = filename_jp\n",
    "\n",
    "lines = [line.rstrip('\\n') for line in open(filename)]\n",
    "\n",
    "\n",
    "sents = []\n",
    "\n",
    "for i in range(0,len(lines)):\n",
    "    x = lines[i].split()\n",
    "    sents = sents + x"
   ]
  },
  {
   "cell_type": "code",
   "execution_count": 87,
   "metadata": {},
   "outputs": [
    {
     "data": {
      "text/plain": [
       "143580"
      ]
     },
     "execution_count": 87,
     "metadata": {},
     "output_type": "execute_result"
    }
   ],
   "source": [
    "len(sents)"
   ]
  },
  {
   "cell_type": "code",
   "execution_count": 88,
   "metadata": {},
   "outputs": [
    {
     "data": {
      "text/plain": [
       "8251"
      ]
     },
     "execution_count": 88,
     "metadata": {},
     "output_type": "execute_result"
    }
   ],
   "source": [
    "len(np.unique(sents))"
   ]
  },
  {
   "cell_type": "code",
   "execution_count": 89,
   "metadata": {},
   "outputs": [],
   "source": [
    "unique_elements, counts_elements = np.unique(sents, return_counts=True)"
   ]
  },
  {
   "cell_type": "code",
   "execution_count": 90,
   "metadata": {},
   "outputs": [
    {
     "data": {
      "text/plain": [
       "4171"
      ]
     },
     "execution_count": 90,
     "metadata": {},
     "output_type": "execute_result"
    }
   ],
   "source": [
    "len(counts_elements[counts_elements == 1])"
   ]
  },
  {
   "cell_type": "markdown",
   "metadata": {},
   "source": [
    "## Training models"
   ]
  },
  {
   "cell_type": "code",
   "execution_count": null,
   "metadata": {
    "collapsed": true
   },
   "outputs": [
    {
     "name": "stdout",
     "output_type": "stream",
     "text": [
      "Running mt experiment\n",
      "/Users/jusjosgra/anaconda/lib/python3.5/site-packages/h5py/__init__.py:34: FutureWarning: Conversion of the second argument of issubdtype from `float` to `np.floating` is deprecated. In future, it will be treated as `np.float64 == np.dtype(float).type`.\n",
      "  from ._conv import register_converters as _register_converters\n",
      "Japanese English dataset configuration\n",
      "vocab size, en=3713, fr=3949\n",
      "--------------------------------------------------\n",
      "Training progress will be logged in:\n",
      "\tmodel/train_10000sen_1-1layers_100units_q3_attn_test2_SOFT_ATTN.log\n",
      "--------------------------------------------------\n",
      "Trained model will be saved as:\n",
      "\tmodel/seq2seq_10000sen_1-1layers_100units_q3_attn_test2_SOFT_ATTN.model\n",
      "--------------------------------------------------\n",
      "Existing model not found!\n",
      "--------------------------------------------------\n",
      "epoch=1, iter=10000, loss=6.510277, mean loss=6.074275: 100%|█| 10000/10000 [30:58<00:00,  5.28it/s]\n",
      "--------------------------------------------------\n",
      "precision  | 0.2275\n",
      "recall     | 0.2032\n",
      "f1         | 0.2146\n",
      "--------------------------------------------------\n",
      "computing perplexity\n",
      "loss=5.979732: 100%|██████████████████████████| 500/500 [00:26<00:00, 19.12it/s]\n",
      "--------------------------------------------------\n",
      "dev perplexity | 50.0162\n",
      "# words in dev | 4557\n",
      "--------------------------------------------------\n",
      "Saving model\n",
      "Finished saving model\n",
      "--------------------------------------------------\n",
      "computing bleu\n",
      "100%|█████████████████████████████████████████| 500/500 [00:19<00:00, 26.29it/s]\n",
      "BLEU: 4.701\n",
      "finished computing bleu ... \n",
      "--------------------------------------------------\n",
      "epoch=2, iter=20000, loss=6.120356, mean loss=5.717887: 100%|█| 10000/10000 [32:11<00:00,  5.52it/s]\n",
      "--------------------------------------------------\n",
      "precision  | 0.2443\n",
      "recall     | 0.2199\n",
      "f1         | 0.2315\n",
      "--------------------------------------------------\n",
      "computing perplexity\n",
      "loss=6.384202: 100%|██████████████████████████| 500/500 [00:25<00:00, 19.59it/s]\n",
      "--------------------------------------------------\n",
      "dev perplexity | 45.3375\n",
      "# words in dev | 4557\n",
      "--------------------------------------------------\n",
      "Saving model\n",
      "Finished saving model\n",
      "--------------------------------------------------\n",
      "epoch=3, iter=30000, loss=5.973952, mean loss=5.597546: 100%|█| 10000/10000 [31:39<00:00,  5.66it/s]\n",
      "--------------------------------------------------\n",
      "precision  | 0.2534\n",
      "recall     | 0.2238\n",
      "f1         | 0.2377\n",
      "--------------------------------------------------\n",
      "computing perplexity\n",
      "loss=5.681300: 100%|██████████████████████████| 500/500 [00:26<00:00, 19.20it/s]\n",
      "--------------------------------------------------\n",
      "dev perplexity | 42.5377\n",
      "# words in dev | 4557\n",
      "--------------------------------------------------\n",
      "Saving model\n",
      "Finished saving model\n",
      "--------------------------------------------------\n",
      "computing bleu\n",
      "100%|█████████████████████████████████████████| 500/500 [00:20<00:00, 24.82it/s]\n",
      "BLEU: 6.473\n",
      "finished computing bleu ... \n",
      "--------------------------------------------------\n",
      "epoch=4, iter=40000, loss=6.099611, mean loss=5.504118: 100%|█| 10000/10000 [31:39<00:00,  5.83it/s]\n",
      "--------------------------------------------------\n",
      "precision  | 0.2536\n",
      "recall     | 0.2306\n",
      "f1         | 0.2416\n",
      "--------------------------------------------------\n",
      "computing perplexity\n",
      "loss=5.895894: 100%|██████████████████████████| 500/500 [00:24<00:00, 20.36it/s]\n",
      "--------------------------------------------------\n",
      "dev perplexity | 40.2414\n",
      "# words in dev | 4557\n",
      "--------------------------------------------------\n",
      "Saving model\n",
      "Finished saving model\n",
      "--------------------------------------------------\n",
      "epoch=5, iter=50000, loss=6.402893, mean loss=5.426741: 100%|█| 10000/10000 [32:22<00:00,  4.53it/s]\n",
      "--------------------------------------------------\n",
      "precision  | 0.2465\n",
      "recall     | 0.2409\n",
      "f1         | 0.2437\n",
      "--------------------------------------------------\n",
      "computing perplexity\n",
      "loss=5.585683: 100%|██████████████████████████| 500/500 [00:26<00:00, 21.39it/s]\n",
      "--------------------------------------------------\n",
      "dev perplexity | 38.6113\n",
      "# words in dev | 4557\n",
      "--------------------------------------------------\n",
      "Saving model\n",
      "Finished saving model\n",
      "--------------------------------------------------\n",
      "computing bleu\n",
      "100%|█████████████████████████████████████████| 500/500 [00:23<00:00, 24.94it/s]\n",
      "BLEU: 9.180\n",
      "finished computing bleu ... \n",
      "--------------------------------------------------\n",
      "epoch=6, iter=60000, loss=5.922130, mean loss=5.355848: 100%|█| 10000/10000 [32:45<00:00,  5.30it/s]\n",
      "--------------------------------------------------\n",
      "precision  | 0.2524\n",
      "recall     | 0.2460\n",
      "f1         | 0.2492\n",
      "--------------------------------------------------\n",
      "computing perplexity\n",
      "loss=5.856965: 100%|██████████████████████████| 500/500 [00:26<00:00, 22.69it/s]\n",
      "--------------------------------------------------\n",
      "dev perplexity | 37.3593\n",
      "# words in dev | 4557\n",
      "--------------------------------------------------\n",
      "Saving model\n",
      "Finished saving model\n",
      "--------------------------------------------------\n",
      "epoch=7, iter=70000, loss=6.025079, mean loss=5.294755: 100%|█| 10000/10000 [32:46<00:00,  5.02it/s]\n",
      "--------------------------------------------------\n",
      "precision  | 0.2539\n",
      "recall     | 0.2519\n",
      "f1         | 0.2529\n",
      "--------------------------------------------------\n",
      "computing perplexity\n",
      "loss=5.979174: 100%|██████████████████████████| 500/500 [00:27<00:00, 25.98it/s]\n",
      "--------------------------------------------------\n",
      "dev perplexity | 36.2466\n",
      "# words in dev | 4557\n",
      "--------------------------------------------------\n",
      "Saving model\n",
      "Finished saving model\n",
      "--------------------------------------------------\n",
      "computing bleu\n",
      "100%|█████████████████████████████████████████| 500/500 [00:21<00:00, 22.97it/s]\n",
      "BLEU: 10.161\n",
      "finished computing bleu ... \n",
      "--------------------------------------------------\n",
      "epoch=8, iter=80000, loss=5.927292, mean loss=5.233517: 100%|█| 10000/10000 [33:18<00:00,  5.01it/s]\n",
      "--------------------------------------------------\n",
      "precision  | 0.2561\n",
      "recall     | 0.2478\n",
      "f1         | 0.2518\n",
      "--------------------------------------------------\n",
      "computing perplexity\n",
      "loss=5.826711: 100%|██████████████████████████| 500/500 [00:26<00:00, 22.95it/s]\n",
      "--------------------------------------------------\n",
      "dev perplexity | 35.3733\n",
      "# words in dev | 4557\n",
      "--------------------------------------------------\n",
      "Saving model\n",
      "Finished saving model\n",
      "--------------------------------------------------\n",
      "epoch=9, iter=90000, loss=6.033731, mean loss=5.184165: 100%|█| 10000/10000 [33:49<00:00,  5.16it/s]\n",
      "--------------------------------------------------\n",
      "precision  | 0.2639\n",
      "recall     | 0.2585\n",
      "f1         | 0.2612\n",
      "--------------------------------------------------\n",
      "computing perplexity\n",
      "loss=5.927733: 100%|██████████████████████████| 500/500 [00:26<00:00, 18.85it/s]\n",
      "--------------------------------------------------\n",
      "dev perplexity | 34.6374\n",
      "# words in dev | 4557\n",
      "--------------------------------------------------\n",
      "Saving model\n",
      "Finished saving model\n",
      "--------------------------------------------------\n",
      "computing bleu\n",
      "100%|█████████████████████████████████████████| 500/500 [00:20<00:00, 24.49it/s]\n",
      "BLEU: 11.115\n",
      "finished computing bleu ... \n",
      "--------------------------------------------------\n",
      "epoch=10, iter=100000, loss=6.084273, mean loss=5.139675: 100%|█| 10000/10000 [33:53<00:00,  5.04it/s]\n",
      "--------------------------------------------------\n",
      "precision  | 0.2577\n",
      "recall     | 0.2530\n",
      "f1         | 0.2553\n",
      "--------------------------------------------------\n",
      "computing perplexity\n",
      "loss=6.096974: 100%|██████████████████████████| 500/500 [00:26<00:00, 18.86it/s]\n",
      "--------------------------------------------------\n",
      "dev perplexity | 34.0369\n",
      "# words in dev | 4557\n",
      "--------------------------------------------------\n",
      "Saving model\n",
      "Finished saving model\n",
      "--------------------------------------------------\n",
      "epoch=11, iter=110000, loss=5.697982, mean loss=5.092912: 100%|█| 10000/10000 [34:29<00:00,  4.81it/s]\n",
      "--------------------------------------------------\n",
      "precision  | 0.2568\n",
      "recall     | 0.2587\n",
      "f1         | 0.2578\n",
      "--------------------------------------------------\n",
      "computing perplexity\n",
      "loss=5.903151: 100%|██████████████████████████| 500/500 [00:26<00:00, 18.88it/s]\n",
      "--------------------------------------------------\n",
      "dev perplexity | 33.5533\n",
      "# words in dev | 4557\n",
      "--------------------------------------------------\n",
      "Saving model\n",
      "Finished saving model\n",
      "--------------------------------------------------\n",
      "computing bleu\n",
      "100%|█████████████████████████████████████████| 500/500 [00:22<00:00, 22.70it/s]\n",
      "BLEU: 11.811\n",
      "finished computing bleu ... \n",
      "--------------------------------------------------\n",
      "epoch=12, iter=120000, loss=5.951645, mean loss=5.053949: 100%|█| 10000/10000 [34:22<00:00,  5.07it/s]\n",
      "--------------------------------------------------\n",
      "precision  | 0.2636\n",
      "recall     | 0.2598\n",
      "f1         | 0.2617\n",
      "--------------------------------------------------\n",
      "computing perplexity\n",
      "loss=6.071075: 100%|██████████████████████████| 500/500 [00:25<00:00, 20.96it/s]\n",
      "--------------------------------------------------\n",
      "dev perplexity | 33.3504\n",
      "# words in dev | 4557\n",
      "--------------------------------------------------\n",
      "Saving model\n",
      "Finished saving model\n",
      "--------------------------------------------------\n",
      "epoch=13, iter=130000, loss=5.748819, mean loss=5.014579: 100%|█| 10000/10000 [34:15<00:00,  5.18it/s]\n",
      "--------------------------------------------------\n",
      "precision  | 0.2654\n",
      "recall     | 0.2653\n",
      "f1         | 0.2653\n",
      "--------------------------------------------------\n",
      "computing perplexity\n",
      "loss=5.362117: 100%|██████████████████████████| 500/500 [00:25<00:00, 21.49it/s]\n",
      "--------------------------------------------------\n",
      "dev perplexity | 32.6825\n",
      "# words in dev | 4557\n",
      "--------------------------------------------------\n",
      "Saving model\n",
      "Finished saving model\n",
      "--------------------------------------------------\n",
      "computing bleu\n",
      "100%|█████████████████████████████████████████| 500/500 [00:21<00:00, 22.97it/s]\n",
      "BLEU: 13.008\n",
      "finished computing bleu ... \n",
      "--------------------------------------------------\n",
      "epoch=14, iter=140000, loss=5.766969, mean loss=4.973319: 100%|█| 10000/10000 [34:13<00:00,  5.03it/s]\n",
      "--------------------------------------------------\n",
      "precision  | 0.2650\n",
      "recall     | 0.2660\n",
      "f1         | 0.2655\n",
      "--------------------------------------------------\n",
      "computing perplexity\n",
      "loss=5.356907: 100%|██████████████████████████| 500/500 [00:25<00:00, 19.38it/s]\n",
      "--------------------------------------------------\n",
      "dev perplexity | 32.4420\n",
      "# words in dev | 4557\n",
      "--------------------------------------------------\n",
      "Saving model\n",
      "Finished saving model\n",
      "--------------------------------------------------\n",
      "epoch=18, iter=180000, loss=5.592171, mean loss=4.832420: 100%|█| 10000/10000 [34:10<00:00,  5.31it/s]\n",
      "--------------------------------------------------\n",
      "precision  | 0.2711\n",
      "recall     | 0.2741\n",
      "f1         | 0.2726\n",
      "--------------------------------------------------\n",
      "computing perplexity\n",
      "epoch=19, iter=190000, loss=5.442643, mean loss=4.801091: 100%|█| 10000/10000 [34:02<00:00,  5.12it/s]\n",
      "--------------------------------------------------\n",
      "precision  | 0.2699\n",
      "recall     | 0.2704\n",
      "f1         | 0.2701\n",
      "--------------------------------------------------\n",
      "computing perplexity\n",
      "loss=5.629850: 100%|██████████████████████████| 500/500 [00:25<00:00, 19.51it/s]\n",
      "--------------------------------------------------\n",
      "dev perplexity | 30.8291\n",
      "# words in dev | 4557\n",
      "--------------------------------------------------\n",
      "Saving model\n",
      "Finished saving model\n",
      "--------------------------------------------------\n",
      "computing bleu\n",
      "epoch=20, iter=200000, loss=5.543863, mean loss=4.767612: 100%|█| 10000/10000 [34:29<00:00,  5.18it/s]\n",
      "--------------------------------------------------\n",
      "precision  | 0.2714\n",
      "recall     | 0.2730\n",
      "f1         | 0.2722\n",
      "--------------------------------------------------\n",
      "computing perplexity\n",
      "loss=5.615412: 100%|██████████████████████████| 500/500 [00:26<00:00, 18.64it/s]\n",
      "--------------------------------------------------\n",
      "dev perplexity | 30.5526\n",
      "# words in dev | 4557\n",
      "--------------------------------------------------\n",
      "Saving model\n",
      "Finished saving model\n",
      "--------------------------------------------------\n",
      "Training set predictions\n",
      "English predictions, s=0, num=3:\n",
      "--------------------------------------------------\n",
      "Src | ステーキ は 中位 で 焼 い て くださ い 。                                                       \n",
      "Ref | i like my steak medium .                                                        \n",
      "Hyp | i want to in in . . _EOS                                                        \n",
      "--------------------------------------------------\n",
      "precision | 0.2500\n",
      "recall | 0.3333\n",
      "--------------------------------------------------\n",
      "Src | 彼女 の 美し さ に 関 し て は 、 疑 う 余地 が な い 。                                            \n",
      "Ref | there is no doubt as to her beauty .                                            \n",
      "Hyp | her is &apos;t to her her her her . . . _EOS                                    \n",
      "--------------------------------------------------\n",
      "precision | 0.3333\n",
      "recall | 0.4444\n",
      "--------------------------------------------------\n",
      "Src | この 近所 の 家 は どれ も とても よく 似 て い る の で 見分け が つ か な い 。                             \n",
      "Ref | all the houses in this neighborhood look so much alike that i can &apos;t tell them apart .\n",
      "Hyp | this is is the , , , this . . . _EOS                                            \n",
      "--------------------------------------------------\n",
      "precision | 0.2500\n",
      "recall | 0.1667\n",
      "sentences matching filter = 3\n",
      "--------------------------------------------------\n",
      "dev set predictions\n",
      "English predictions, s=10000, num=3:\n",
      "--------------------------------------------------\n",
      "Src | この 路地 は 通り抜け でき ま せ ん 。                                                         \n",
      "Ref | this is a dead @-@ end alley .                                                  \n",
      "Hyp | this cannot &apos;t this this this . _EOS                                       \n",
      "--------------------------------------------------\n",
      "precision | 0.2500\n",
      "recall | 0.2500\n",
      "--------------------------------------------------\n",
      "Src | ええ 、 届 い た の を お 知 らせ する の を 忘れ て しま っ て す み ま せ ん 。                            \n",
      "Ref | yes , sorry , i forgot to acknowledge it .                                      \n",
      "Hyp | i can &apos;t know you you you you you to . . . _EOS                            \n",
      "--------------------------------------------------\n",
      "precision | 0.2143\n",
      "recall | 0.3000\n",
      "--------------------------------------------------\n",
      "Src | 彼 は ドイツ 生まれ の 人 だ 。                                                             \n",
      "Ref | he is a german by origin .                                                      \n",
      "Hyp | he is a man a . . . _EOS                                                        \n",
      "--------------------------------------------------\n",
      "precision | 0.4444\n",
      "recall | 0.5714\n",
      "sentences matching filter = 3\n",
      "--------------------------------------------------\n",
      "--------------------------------------------------\n",
      "--------------------------------------------------\n",
      "Finished training. Filenames:\n",
      "model/train_10000sen_1-1layers_100units_q3_attn_test2_SOFT_ATTN.log\n",
      "model/seq2seq_10000sen_1-1layers_100units_q3_attn_test2_SOFT_ATTN.model\n",
      "Finished training mt model\n"
     ]
    }
   ],
   "source": [
    "# train model\n",
    "!./run_exp"
   ]
  },
  {
   "cell_type": "code",
   "execution_count": 6,
   "metadata": {},
   "outputs": [
    {
     "name": "stderr",
     "output_type": "stream",
     "text": [
      "100%|██████████| 500/500 [00:11<00:00, 42.27it/s]\n"
     ]
    },
    {
     "name": "stdout",
     "output_type": "stream",
     "text": [
      "BLEU: 0.000\n"
     ]
    },
    {
     "data": {
      "text/plain": [
       "0"
      ]
     },
     "execution_count": 6,
     "metadata": {},
     "output_type": "execute_result"
    }
   ],
   "source": [
    "compute_dev_bleu()"
   ]
  },
  {
   "cell_type": "code",
   "execution_count": 29,
   "metadata": {},
   "outputs": [
    {
     "name": "stdout",
     "output_type": "stream",
     "text": [
      "English predictions, s=10000, num=1:\n",
      "--------------------------------------------------\n",
      "Src | この 路地 は 通り抜け でき ま せ ん 。                                                         \n",
      "Ref | this is a dead @-@ end alley .                                                  \n",
      "Hyp | . . _EOS                                                                        \n",
      "--------------------------------------------------\n",
      "precision | 0.3333\n",
      "recall | 0.1250\n",
      "sentences matching filter = 1\n"
     ]
    },
    {
     "data": {
      "image/png": "[encoded data removed]",
      "text/plain": [
       "<matplotlib.figure.Figure at 0x1a0c504198>"
      ]
     },
     "metadata": {},
     "output_type": "display_data"
    }
   ],
   "source": [
    "_ = predict(s=10000, num=1, plot=True)"
   ]
  },
  {
   "cell_type": "code",
   "execution_count": 30,
   "metadata": {},
   "outputs": [
    {
     "name": "stderr",
     "output_type": "stream",
     "text": [
      "100%|██████████| 500/500 [00:15<00:00, 32.11it/s]\n"
     ]
    },
    {
     "name": "stdout",
     "output_type": "stream",
     "text": [
      "BLEU: 0.000\n"
     ]
    },
    {
     "data": {
      "text/plain": [
       "0"
      ]
     },
     "execution_count": 30,
     "metadata": {},
     "output_type": "execute_result"
    }
   ],
   "source": [
    "compute_dev_bleu()"
   ]
  },
  {
   "cell_type": "code",
   "execution_count": 7,
   "metadata": {},
   "outputs": [
    {
     "data": {
      "text/plain": [
       "<enc_dec.EncoderDecoder at 0x1a08c2a7b8>"
      ]
     },
     "execution_count": 7,
     "metadata": {},
     "output_type": "execute_result"
    }
   ],
   "source": [
    "model"
   ]
  },
  {
   "cell_type": "code",
   "execution_count": 8,
   "metadata": {},
   "outputs": [
    {
     "ename": "NameError",
     "evalue": "name 'decoder_predict' is not defined",
     "output_type": "error",
     "traceback": [
      "\u001b[0;31m---------------------------------------------------------------------------\u001b[0m",
      "\u001b[0;31mNameError\u001b[0m                                 Traceback (most recent call last)",
      "\u001b[0;32m<ipython-input-8-3fd8b96f02b6>\u001b[0m in \u001b[0;36m<module>\u001b[0;34m()\u001b[0m\n\u001b[0;32m----> 1\u001b[0;31m \u001b[0ma\u001b[0m\u001b[0;34m,\u001b[0m \u001b[0marr\u001b[0m \u001b[0;34m=\u001b[0m \u001b[0mdecoder_predict\u001b[0m\u001b[0;34m(\u001b[0m\u001b[0;34m)\u001b[0m\u001b[0;34m\u001b[0m\u001b[0m\n\u001b[0m",
      "\u001b[0;31mNameError\u001b[0m: name 'decoder_predict' is not defined"
     ]
    }
   ],
   "source": [
    "a, arr = decoder_predict()"
   ]
  },
  {
   "cell_type": "code",
   "execution_count": 34,
   "metadata": {},
   "outputs": [
    {
     "ename": "NameError",
     "evalue": "name 'alpha_arr' is not defined",
     "output_type": "error",
     "traceback": [
      "\u001b[0;31m---------------------------------------------------------------------------\u001b[0m",
      "\u001b[0;31mNameError\u001b[0m                                 Traceback (most recent call last)",
      "\u001b[0;32m<ipython-input-34-c744d59d475e>\u001b[0m in \u001b[0;36m<module>\u001b[0;34m()\u001b[0m\n\u001b[0;32m----> 1\u001b[0;31m \u001b[0malpha_arr\u001b[0m\u001b[0;34m\u001b[0m\u001b[0m\n\u001b[0m",
      "\u001b[0;31mNameError\u001b[0m: name 'alpha_arr' is not defined"
     ]
    }
   ],
   "source": [
    "alpha_arr"
   ]
  },
  {
   "cell_type": "code",
   "execution_count": 39,
   "metadata": {},
   "outputs": [
    {
     "data": {
      "text/plain": [
       "1"
      ]
     },
     "execution_count": 39,
     "metadata": {},
     "output_type": "execute_result"
    }
   ],
   "source": [
    "model.attn"
   ]
  },
  {
   "cell_type": "code",
   "execution_count": null,
   "metadata": {},
   "outputs": [],
   "source": []
  }
 ],
 "metadata": {
  "kernelspec": {
   "display_name": "Python [conda root]",
   "language": "python",
   "name": "conda-root-py"
  },
  "language_info": {
   "codemirror_mode": {
    "name": "ipython",
    "version": 3
   },
   "file_extension": ".py",
   "mimetype": "text/x-python",
   "name": "python",
   "nbconvert_exporter": "python",
   "pygments_lexer": "ipython3",
   "version": "3.5.4"
  }
 },
 "nbformat": 4,
 "nbformat_minor": 2
}
